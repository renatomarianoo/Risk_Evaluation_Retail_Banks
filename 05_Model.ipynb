{
 "cells": [
  {
   "cell_type": "markdown",
   "metadata": {},
   "source": [
    "<p style=\"background:#83739E; color:white; font-size: 2.1em; text-align:center\"> \n",
    "    <br><b>Risk Evaluation for Retail Banks</b><br>\n",
    "    <br>Model Selection and Testing<br><br> \n",
    "</p>"
   ]
  },
  {
   "cell_type": "markdown",
   "metadata": {},
   "source": [
    "<p style=\"text-align: right;\">Module 4: Machine Learning<br>\n",
    "Sprint 4: Machine Learning Capstone Project<br>\n",
    "Author : Renato Mariano</p>"
   ]
  },
  {
   "cell_type": "markdown",
   "metadata": {},
   "source": [
    "<h1 style=\"color:#774CAD\">Introduction </h1>"
   ]
  },
  {
   "cell_type": "markdown",
   "metadata": {},
   "source": [
    "Welcome to the Capstone Project of of the Machine Learning Module! In this sprint, we embark on an exciting journey to develop a **risk evaluation service for retail banks**, leveraging the power of data science and machine learning.\n",
    "\n",
    "This work is part of a series of notebooks starting with 01_EDA_application."
   ]
  },
  {
   "cell_type": "markdown",
   "metadata": {},
   "source": [
    "<h2 style=\"color:#774CAD\">Library Imports and Notebook Setup</h2>"
   ]
  },
  {
   "cell_type": "code",
   "execution_count": 1,
   "metadata": {},
   "outputs": [],
   "source": [
    "import pandas as pd\n",
    "import numpy as np\n",
    "import matplotlib.pyplot as plt\n",
    "import seaborn as sns\n",
    "from rapidfuzz import process\n",
    "import re\n",
    "\n",
    "import utils\n",
    "import EDA\n",
    "import feat_eng\n",
    "import pipelines\n",
    "import model_select\n",
    "\n",
    "from sklearn.compose import ColumnTransformer\n",
    "from sklearn.pipeline import Pipeline\n",
    "from sklearn.preprocessing import RobustScaler, OrdinalEncoder, OneHotEncoder\n",
    "from feature_engine.encoding import RareLabelEncoder\n",
    "from sklearn.base import BaseEstimator, TransformerMixin\n",
    "\n",
    "from sklearn.model_selection import RandomizedSearchCV\n",
    "from sklearn.utils.class_weight import compute_class_weight\n",
    "from scipy.stats import randint, uniform\n",
    "\n",
    "from xgboost import XGBClassifier\n",
    "from sklearn.tree import DecisionTreeClassifier\n",
    "from sklearn.ensemble import RandomForestClassifier\n",
    "from sklearn.naive_bayes import GaussianNB\n",
    "from lightgbm import LGBMClassifier\n",
    "from catboost import CatBoostClassifier\n",
    "from sklearn.metrics import f1_score, recall_score, make_scorer, classification_report\n",
    "from sklearn.metrics import ConfusionMatrixDisplay, RocCurveDisplay"
   ]
  },
  {
   "cell_type": "code",
   "execution_count": 2,
   "metadata": {},
   "outputs": [],
   "source": [
    "import warnings\n",
    "warnings.filterwarnings('ignore')\n",
    "\n",
    "pd.set_option('display.float_format', lambda x: '%.3f' % x)\n",
    "\n",
    "from IPython.core.display import HTML\n",
    "HTML(\"\"\"\n",
    "<style>\n",
    ".output_png {\n",
    "    display: table-cell;\n",
    "    text-align: center;\n",
    "    vertical-align: middle;\n",
    "}\n",
    "</style>\n",
    "\"\"\")\n",
    "\n",
    "%load_ext blackcellmagic"
   ]
  },
  {
   "cell_type": "markdown",
   "metadata": {},
   "source": [
    "<h1 style=\"color:#774CAD\">Data Transformations</h1>"
   ]
  },
  {
   "cell_type": "markdown",
   "metadata": {},
   "source": [
    "We start by loading our dataframes and applying our changes / pipelines to the data. We also read our test dataset and apply the same changes to it."
   ]
  },
  {
   "cell_type": "markdown",
   "metadata": {},
   "source": [
    "<div class=\"alert alert-block alert-danger\">\n",
    "<b>Danger:</b> SKIP ROWS ACTIVATED\n",
    "</div>"
   ]
  },
  {
   "cell_type": "code",
   "execution_count": 3,
   "metadata": {},
   "outputs": [
    {
     "name": "stdout",
     "output_type": "stream",
     "text": [
      "The shape of the data is: (153755, 122)\n",
      "load_df took 2.012 seconds\n",
      "\n",
      "The shape of the data is: (61502, 122)\n",
      "load_df took 0.944 seconds\n",
      "\n",
      "The shape of the data is: (92254, 122)\n",
      "load_df took 1.263 seconds\n",
      "\n",
      "The shape of the data is: (1670214, 37)\n",
      "load_df took 8.231 seconds\n",
      "\n",
      "The shape of the data is: (13605401, 8)\n",
      "load_df took 15.910 seconds\n",
      "\n",
      "The shape of the data is: (1716428, 17)\n",
      "load_df took 3.850 seconds\n",
      "\n",
      "The shape of the data is: (32, 1)\n",
      "load_df took 0.017 seconds\n",
      "\n"
     ]
    }
   ],
   "source": [
    "df_train = utils.load_df(file_path=\"data/df_train.csv\")\n",
    "df_valid = utils.load_df(file_path=\"data/df_validation.csv\")\n",
    "df_test = utils.load_df(file_path=\"data/df_test.csv\")\n",
    "\n",
    "df_previous = utils.load_df(file_path=\"data/home-credit-default-risk/previous_application.csv\")\n",
    "df_installments = utils.load_df(file_path=\"data/home-credit-default-risk/installments_payments.csv\")\n",
    "df_bureau = utils.load_df(file_path=\"data/home-credit-default-risk/bureau.csv\")\n",
    "feats_to_keep = utils.load_df(file_path=\"data/feats_to_keep.csv\")"
   ]
  },
  {
   "cell_type": "code",
   "execution_count": 4,
   "metadata": {},
   "outputs": [],
   "source": [
    "df_previous_transf = feat_eng.PreviousApplicationTransformer().fit_transform(df_previous)\n",
    "df_installments_transf = feat_eng.InstallmentsTransformer().fit_transform(df_installments)\n",
    "df_bureau_transf = feat_eng.BureauTransformer().fit_transform(df_bureau)"
   ]
  },
  {
   "cell_type": "code",
   "execution_count": 5,
   "metadata": {},
   "outputs": [],
   "source": [
    "def preprocess_and_drop_features(\n",
    "    df, df_previous_transf, df_installments_transf, feats_to_keep\n",
    "):\n",
    "    df_transformed = df.merge(df_previous_transf, on=\"SK_ID_CURR\", how=\"left\").merge(\n",
    "        df_installments_transf, on=\"SK_ID_CURR\", how=\"left\"\n",
    "    ).merge(\n",
    "        df_bureau_transf, on=\"SK_ID_CURR\", how=\"left\"\n",
    "    )\n",
    "\n",
    "    X = df_transformed.drop([\"TARGET\", \"SK_ID_CURR\"], axis=1)\n",
    "    y = df_transformed[\"TARGET\"]\n",
    "\n",
    "    feat_eng_pipe2 = Pipeline(\n",
    "    steps=[\n",
    "        (\"drop_mode_avg\", feat_eng.DropModeAVG()),\n",
    "        ('zero_null_transformer', feat_eng.ZeroToNullTransformer(columns=\"YEARS_BEGINEXPLUATATION_MEDI\")),\n",
    "        ('multiply_by_neg1', feat_eng.MultiplyByNeg1(columns=[col for col in df.columns if col.startswith('DAYS_')])),\n",
    "        ('days_empl_anomaly', feat_eng.HandleDaysEmployedAnomaly()),\n",
    "        ('map_loan_titles', feat_eng.ApplyMapToOrganization(column=\"ORGANIZATION_TYPE\", similarity_threshold=70)),\n",
    "        ('ext_sources_transformer', feat_eng.ExternalSourcesTransformer()),\n",
    "        ('financial_ratio_transformer', feat_eng.FinancialRatioTransformer()),\n",
    "        ('age_employment_transformer', feat_eng.AgeAndEmploymentTransformer()),\n",
    "        ]\n",
    "    )\n",
    "\n",
    "    X_FE = feat_eng_pipe2.fit_transform(X)\n",
    "    num_feats, cat_feats, binary_feats, highcard_feats = utils.extract_features(X_FE)\n",
    "\n",
    "    preprocess_pipe = pipelines.create_preprocess_pipeline(\n",
    "        num_feats, binary_feats, highcard_feats\n",
    "    )\n",
    "    X_ready = preprocess_pipe.fit_transform(X_FE)\n",
    "\n",
    "    # Keep selected columns and rename because of LGMB error.\n",
    "    X_ready = X_ready.rename(columns = lambda x:re.sub('[^A-Za-z0-9_]+', '_', x))\n",
    "    X_ready = X_ready[feats_to_keep[\"Feature\"].to_list()]\n",
    "    \n",
    "    return X_ready, y"
   ]
  },
  {
   "cell_type": "code",
   "execution_count": 6,
   "metadata": {},
   "outputs": [
    {
     "data": {
      "text/plain": [
       "NAME_EDUCATION_TYPE\n",
       "Secondary / secondary special    109132\n",
       "Higher education                  37457\n",
       "Incomplete higher                  5161\n",
       "Lower secondary                    1919\n",
       "Academic degree                      86\n",
       "Name: count, dtype: int64"
      ]
     },
     "execution_count": 6,
     "metadata": {},
     "output_type": "execute_result"
    }
   ],
   "source": [
    "df_train[\"NAME_EDUCATION_TYPE\"].value_counts()"
   ]
  },
  {
   "cell_type": "code",
   "execution_count": 7,
   "metadata": {},
   "outputs": [
    {
     "name": "stdout",
     "output_type": "stream",
     "text": [
      "(153755, 32) 153755\n"
     ]
    },
    {
     "data": {
      "text/html": [
       "<div>\n",
       "<style scoped>\n",
       "    .dataframe tbody tr th:only-of-type {\n",
       "        vertical-align: middle;\n",
       "    }\n",
       "\n",
       "    .dataframe tbody tr th {\n",
       "        vertical-align: top;\n",
       "    }\n",
       "\n",
       "    .dataframe thead th {\n",
       "        text-align: right;\n",
       "    }\n",
       "</style>\n",
       "<table border=\"1\" class=\"dataframe\">\n",
       "  <thead>\n",
       "    <tr style=\"text-align: right;\">\n",
       "      <th></th>\n",
       "      <th>num__AMT_CREDIT</th>\n",
       "      <th>num__AMT_ANNUITY</th>\n",
       "      <th>num__DAYS_BIRTH</th>\n",
       "      <th>num__DAYS_EMPLOYED</th>\n",
       "      <th>num__OWN_CAR_AGE</th>\n",
       "      <th>num__REG_CITY_NOT_LIVE_CITY</th>\n",
       "      <th>num__EXT_SOURCE_1</th>\n",
       "      <th>num__EXT_SOURCE_2</th>\n",
       "      <th>num__EXT_SOURCE_3</th>\n",
       "      <th>num__PREV_name_contract_refused</th>\n",
       "      <th>...</th>\n",
       "      <th>num__BU_debt_credit_sum_ratio_max</th>\n",
       "      <th>num__EXT_SOURCES_prod</th>\n",
       "      <th>num__EXT_SOURCES_sum</th>\n",
       "      <th>num__EXT_SOURCES_mean</th>\n",
       "      <th>num__amt_credit_annuity_ratio</th>\n",
       "      <th>num__amt_goods_price_annuity_ratio</th>\n",
       "      <th>num__amt_goods_price_credit_ratio</th>\n",
       "      <th>num__amt_goods_price_children_ratio</th>\n",
       "      <th>num__days_employed_percent</th>\n",
       "      <th>cat__NAME_EDUCATION_TYPE_Higher_education</th>\n",
       "    </tr>\n",
       "  </thead>\n",
       "  <tbody>\n",
       "    <tr>\n",
       "      <th>0</th>\n",
       "      <td>-0.618</td>\n",
       "      <td>-0.878</td>\n",
       "      <td>-0.969</td>\n",
       "      <td>-0.244</td>\n",
       "      <td>NaN</td>\n",
       "      <td>1.000</td>\n",
       "      <td>-1.233</td>\n",
       "      <td>-1.375</td>\n",
       "      <td>NaN</td>\n",
       "      <td>0.500</td>\n",
       "      <td>...</td>\n",
       "      <td>NaN</td>\n",
       "      <td>-0.754</td>\n",
       "      <td>-1.353</td>\n",
       "      <td>-1.848</td>\n",
       "      <td>0.000</td>\n",
       "      <td>0.056</td>\n",
       "      <td>0.642</td>\n",
       "      <td>-0.337</td>\n",
       "      <td>0.023</td>\n",
       "      <td>0.000</td>\n",
       "    </tr>\n",
       "    <tr>\n",
       "      <th>1</th>\n",
       "      <td>1.246</td>\n",
       "      <td>0.545</td>\n",
       "      <td>0.012</td>\n",
       "      <td>-0.179</td>\n",
       "      <td>0.300</td>\n",
       "      <td>1.000</td>\n",
       "      <td>0.061</td>\n",
       "      <td>0.152</td>\n",
       "      <td>NaN</td>\n",
       "      <td>NaN</td>\n",
       "      <td>...</td>\n",
       "      <td>-0.796</td>\n",
       "      <td>0.393</td>\n",
       "      <td>-0.013</td>\n",
       "      <td>0.204</td>\n",
       "      <td>1.229</td>\n",
       "      <td>0.742</td>\n",
       "      <td>-0.671</td>\n",
       "      <td>0.269</td>\n",
       "      <td>-0.256</td>\n",
       "      <td>1.000</td>\n",
       "    </tr>\n",
       "    <tr>\n",
       "      <th>2</th>\n",
       "      <td>1.918</td>\n",
       "      <td>0.885</td>\n",
       "      <td>-0.368</td>\n",
       "      <td>0.441</td>\n",
       "      <td>NaN</td>\n",
       "      <td>0.000</td>\n",
       "      <td>0.027</td>\n",
       "      <td>0.046</td>\n",
       "      <td>0.197</td>\n",
       "      <td>NaN</td>\n",
       "      <td>...</td>\n",
       "      <td>-0.758</td>\n",
       "      <td>-0.145</td>\n",
       "      <td>0.856</td>\n",
       "      <td>0.184</td>\n",
       "      <td>1.554</td>\n",
       "      <td>1.391</td>\n",
       "      <td>-0.125</td>\n",
       "      <td>0.721</td>\n",
       "      <td>0.542</td>\n",
       "      <td>1.000</td>\n",
       "    </tr>\n",
       "  </tbody>\n",
       "</table>\n",
       "<p>3 rows × 32 columns</p>\n",
       "</div>"
      ],
      "text/plain": [
       "   num__AMT_CREDIT  num__AMT_ANNUITY  num__DAYS_BIRTH  num__DAYS_EMPLOYED  \\\n",
       "0           -0.618            -0.878           -0.969              -0.244   \n",
       "1            1.246             0.545            0.012              -0.179   \n",
       "2            1.918             0.885           -0.368               0.441   \n",
       "\n",
       "   num__OWN_CAR_AGE  num__REG_CITY_NOT_LIVE_CITY  num__EXT_SOURCE_1  \\\n",
       "0               NaN                        1.000             -1.233   \n",
       "1             0.300                        1.000              0.061   \n",
       "2               NaN                        0.000              0.027   \n",
       "\n",
       "   num__EXT_SOURCE_2  num__EXT_SOURCE_3  num__PREV_name_contract_refused  ...  \\\n",
       "0             -1.375                NaN                            0.500  ...   \n",
       "1              0.152                NaN                              NaN  ...   \n",
       "2              0.046              0.197                              NaN  ...   \n",
       "\n",
       "   num__BU_debt_credit_sum_ratio_max  num__EXT_SOURCES_prod  \\\n",
       "0                                NaN                 -0.754   \n",
       "1                             -0.796                  0.393   \n",
       "2                             -0.758                 -0.145   \n",
       "\n",
       "   num__EXT_SOURCES_sum  num__EXT_SOURCES_mean  num__amt_credit_annuity_ratio  \\\n",
       "0                -1.353                 -1.848                          0.000   \n",
       "1                -0.013                  0.204                          1.229   \n",
       "2                 0.856                  0.184                          1.554   \n",
       "\n",
       "   num__amt_goods_price_annuity_ratio  num__amt_goods_price_credit_ratio  \\\n",
       "0                               0.056                              0.642   \n",
       "1                               0.742                             -0.671   \n",
       "2                               1.391                             -0.125   \n",
       "\n",
       "   num__amt_goods_price_children_ratio  num__days_employed_percent  \\\n",
       "0                               -0.337                       0.023   \n",
       "1                                0.269                      -0.256   \n",
       "2                                0.721                       0.542   \n",
       "\n",
       "   cat__NAME_EDUCATION_TYPE_Higher_education  \n",
       "0                                      0.000  \n",
       "1                                      1.000  \n",
       "2                                      1.000  \n",
       "\n",
       "[3 rows x 32 columns]"
      ]
     },
     "execution_count": 7,
     "metadata": {},
     "output_type": "execute_result"
    }
   ],
   "source": [
    "X_train, y_train = preprocess_and_drop_features(\n",
    "    df=df_train,\n",
    "    df_previous_transf=df_previous_transf,\n",
    "    df_installments_transf=df_installments_transf,\n",
    "    feats_to_keep=feats_to_keep,\n",
    ")\n",
    "print(X_train.shape, y_train.size)\n",
    "X_train.head(3)"
   ]
  },
  {
   "cell_type": "code",
   "execution_count": 8,
   "metadata": {},
   "outputs": [
    {
     "name": "stdout",
     "output_type": "stream",
     "text": [
      "(61502, 32) 61502\n"
     ]
    },
    {
     "data": {
      "text/html": [
       "<div>\n",
       "<style scoped>\n",
       "    .dataframe tbody tr th:only-of-type {\n",
       "        vertical-align: middle;\n",
       "    }\n",
       "\n",
       "    .dataframe tbody tr th {\n",
       "        vertical-align: top;\n",
       "    }\n",
       "\n",
       "    .dataframe thead th {\n",
       "        text-align: right;\n",
       "    }\n",
       "</style>\n",
       "<table border=\"1\" class=\"dataframe\">\n",
       "  <thead>\n",
       "    <tr style=\"text-align: right;\">\n",
       "      <th></th>\n",
       "      <th>num__AMT_CREDIT</th>\n",
       "      <th>num__AMT_ANNUITY</th>\n",
       "      <th>num__DAYS_BIRTH</th>\n",
       "      <th>num__DAYS_EMPLOYED</th>\n",
       "      <th>num__OWN_CAR_AGE</th>\n",
       "      <th>num__REG_CITY_NOT_LIVE_CITY</th>\n",
       "      <th>num__EXT_SOURCE_1</th>\n",
       "      <th>num__EXT_SOURCE_2</th>\n",
       "      <th>num__EXT_SOURCE_3</th>\n",
       "      <th>num__PREV_name_contract_refused</th>\n",
       "      <th>...</th>\n",
       "      <th>num__BU_debt_credit_sum_ratio_max</th>\n",
       "      <th>num__EXT_SOURCES_prod</th>\n",
       "      <th>num__EXT_SOURCES_sum</th>\n",
       "      <th>num__EXT_SOURCES_mean</th>\n",
       "      <th>num__amt_credit_annuity_ratio</th>\n",
       "      <th>num__amt_goods_price_annuity_ratio</th>\n",
       "      <th>num__amt_goods_price_credit_ratio</th>\n",
       "      <th>num__amt_goods_price_children_ratio</th>\n",
       "      <th>num__days_employed_percent</th>\n",
       "      <th>cat__NAME_EDUCATION_TYPE_Higher_education</th>\n",
       "    </tr>\n",
       "  </thead>\n",
       "  <tbody>\n",
       "    <tr>\n",
       "      <th>0</th>\n",
       "      <td>1.258</td>\n",
       "      <td>0.556</td>\n",
       "      <td>-0.392</td>\n",
       "      <td>-0.495</td>\n",
       "      <td>NaN</td>\n",
       "      <td>0.000</td>\n",
       "      <td>NaN</td>\n",
       "      <td>-1.131</td>\n",
       "      <td>-0.489</td>\n",
       "      <td>-0.500</td>\n",
       "      <td>...</td>\n",
       "      <td>-0.799</td>\n",
       "      <td>-0.426</td>\n",
       "      <td>-0.766</td>\n",
       "      <td>-0.946</td>\n",
       "      <td>1.222</td>\n",
       "      <td>0.740</td>\n",
       "      <td>-0.671</td>\n",
       "      <td>1.282</td>\n",
       "      <td>-0.517</td>\n",
       "      <td>1.000</td>\n",
       "    </tr>\n",
       "    <tr>\n",
       "      <th>1</th>\n",
       "      <td>1.890</td>\n",
       "      <td>0.960</td>\n",
       "      <td>0.870</td>\n",
       "      <td>NaN</td>\n",
       "      <td>NaN</td>\n",
       "      <td>0.000</td>\n",
       "      <td>NaN</td>\n",
       "      <td>0.600</td>\n",
       "      <td>-0.651</td>\n",
       "      <td>NaN</td>\n",
       "      <td>...</td>\n",
       "      <td>0.040</td>\n",
       "      <td>0.125</td>\n",
       "      <td>-0.114</td>\n",
       "      <td>0.049</td>\n",
       "      <td>1.411</td>\n",
       "      <td>1.717</td>\n",
       "      <td>0.642</td>\n",
       "      <td>2.573</td>\n",
       "      <td>NaN</td>\n",
       "      <td>0.000</td>\n",
       "    </tr>\n",
       "    <tr>\n",
       "      <th>2</th>\n",
       "      <td>0.017</td>\n",
       "      <td>0.575</td>\n",
       "      <td>-0.016</td>\n",
       "      <td>-0.289</td>\n",
       "      <td>NaN</td>\n",
       "      <td>0.000</td>\n",
       "      <td>NaN</td>\n",
       "      <td>-0.629</td>\n",
       "      <td>-0.613</td>\n",
       "      <td>NaN</td>\n",
       "      <td>...</td>\n",
       "      <td>0.266</td>\n",
       "      <td>-0.283</td>\n",
       "      <td>-0.612</td>\n",
       "      <td>-0.712</td>\n",
       "      <td>-0.453</td>\n",
       "      <td>-0.680</td>\n",
       "      <td>-0.185</td>\n",
       "      <td>0.243</td>\n",
       "      <td>-0.359</td>\n",
       "      <td>0.000</td>\n",
       "    </tr>\n",
       "  </tbody>\n",
       "</table>\n",
       "<p>3 rows × 32 columns</p>\n",
       "</div>"
      ],
      "text/plain": [
       "   num__AMT_CREDIT  num__AMT_ANNUITY  num__DAYS_BIRTH  num__DAYS_EMPLOYED  \\\n",
       "0            1.258             0.556           -0.392              -0.495   \n",
       "1            1.890             0.960            0.870                 NaN   \n",
       "2            0.017             0.575           -0.016              -0.289   \n",
       "\n",
       "   num__OWN_CAR_AGE  num__REG_CITY_NOT_LIVE_CITY  num__EXT_SOURCE_1  \\\n",
       "0               NaN                        0.000                NaN   \n",
       "1               NaN                        0.000                NaN   \n",
       "2               NaN                        0.000                NaN   \n",
       "\n",
       "   num__EXT_SOURCE_2  num__EXT_SOURCE_3  num__PREV_name_contract_refused  ...  \\\n",
       "0             -1.131             -0.489                           -0.500  ...   \n",
       "1              0.600             -0.651                              NaN  ...   \n",
       "2             -0.629             -0.613                              NaN  ...   \n",
       "\n",
       "   num__BU_debt_credit_sum_ratio_max  num__EXT_SOURCES_prod  \\\n",
       "0                             -0.799                 -0.426   \n",
       "1                              0.040                  0.125   \n",
       "2                              0.266                 -0.283   \n",
       "\n",
       "   num__EXT_SOURCES_sum  num__EXT_SOURCES_mean  num__amt_credit_annuity_ratio  \\\n",
       "0                -0.766                 -0.946                          1.222   \n",
       "1                -0.114                  0.049                          1.411   \n",
       "2                -0.612                 -0.712                         -0.453   \n",
       "\n",
       "   num__amt_goods_price_annuity_ratio  num__amt_goods_price_credit_ratio  \\\n",
       "0                               0.740                             -0.671   \n",
       "1                               1.717                              0.642   \n",
       "2                              -0.680                             -0.185   \n",
       "\n",
       "   num__amt_goods_price_children_ratio  num__days_employed_percent  \\\n",
       "0                                1.282                      -0.517   \n",
       "1                                2.573                         NaN   \n",
       "2                                0.243                      -0.359   \n",
       "\n",
       "   cat__NAME_EDUCATION_TYPE_Higher_education  \n",
       "0                                      1.000  \n",
       "1                                      0.000  \n",
       "2                                      0.000  \n",
       "\n",
       "[3 rows x 32 columns]"
      ]
     },
     "execution_count": 8,
     "metadata": {},
     "output_type": "execute_result"
    }
   ],
   "source": [
    "X_valid, y_valid = preprocess_and_drop_features(\n",
    "    df=df_valid,\n",
    "    df_previous_transf=df_previous_transf,\n",
    "    df_installments_transf=df_installments_transf,\n",
    "    feats_to_keep=feats_to_keep,\n",
    ")\n",
    "print(X_valid.shape, y_valid.size)\n",
    "X_valid.head(3)"
   ]
  },
  {
   "cell_type": "code",
   "execution_count": 9,
   "metadata": {},
   "outputs": [
    {
     "name": "stdout",
     "output_type": "stream",
     "text": [
      "(92254, 32) 92254\n"
     ]
    },
    {
     "data": {
      "text/html": [
       "<div>\n",
       "<style scoped>\n",
       "    .dataframe tbody tr th:only-of-type {\n",
       "        vertical-align: middle;\n",
       "    }\n",
       "\n",
       "    .dataframe tbody tr th {\n",
       "        vertical-align: top;\n",
       "    }\n",
       "\n",
       "    .dataframe thead th {\n",
       "        text-align: right;\n",
       "    }\n",
       "</style>\n",
       "<table border=\"1\" class=\"dataframe\">\n",
       "  <thead>\n",
       "    <tr style=\"text-align: right;\">\n",
       "      <th></th>\n",
       "      <th>num__AMT_CREDIT</th>\n",
       "      <th>num__AMT_ANNUITY</th>\n",
       "      <th>num__DAYS_BIRTH</th>\n",
       "      <th>num__DAYS_EMPLOYED</th>\n",
       "      <th>num__OWN_CAR_AGE</th>\n",
       "      <th>num__REG_CITY_NOT_LIVE_CITY</th>\n",
       "      <th>num__EXT_SOURCE_1</th>\n",
       "      <th>num__EXT_SOURCE_2</th>\n",
       "      <th>num__EXT_SOURCE_3</th>\n",
       "      <th>num__PREV_name_contract_refused</th>\n",
       "      <th>...</th>\n",
       "      <th>num__BU_debt_credit_sum_ratio_max</th>\n",
       "      <th>num__EXT_SOURCES_prod</th>\n",
       "      <th>num__EXT_SOURCES_sum</th>\n",
       "      <th>num__EXT_SOURCES_mean</th>\n",
       "      <th>num__amt_credit_annuity_ratio</th>\n",
       "      <th>num__amt_goods_price_annuity_ratio</th>\n",
       "      <th>num__amt_goods_price_credit_ratio</th>\n",
       "      <th>num__amt_goods_price_children_ratio</th>\n",
       "      <th>num__days_employed_percent</th>\n",
       "      <th>cat__NAME_EDUCATION_TYPE_Higher_education</th>\n",
       "    </tr>\n",
       "  </thead>\n",
       "  <tbody>\n",
       "    <tr>\n",
       "      <th>0</th>\n",
       "      <td>-0.591</td>\n",
       "      <td>-0.740</td>\n",
       "      <td>0.845</td>\n",
       "      <td>NaN</td>\n",
       "      <td>-0.400</td>\n",
       "      <td>0.000</td>\n",
       "      <td>NaN</td>\n",
       "      <td>0.074</td>\n",
       "      <td>0.828</td>\n",
       "      <td>NaN</td>\n",
       "      <td>...</td>\n",
       "      <td>-0.797</td>\n",
       "      <td>0.922</td>\n",
       "      <td>0.356</td>\n",
       "      <td>0.766</td>\n",
       "      <td>-0.242</td>\n",
       "      <td>-0.589</td>\n",
       "      <td>-0.621</td>\n",
       "      <td>-0.386</td>\n",
       "      <td>NaN</td>\n",
       "      <td>0.000</td>\n",
       "    </tr>\n",
       "    <tr>\n",
       "      <th>1</th>\n",
       "      <td>-0.187</td>\n",
       "      <td>-0.121</td>\n",
       "      <td>-0.598</td>\n",
       "      <td>0.425</td>\n",
       "      <td>NaN</td>\n",
       "      <td>0.000</td>\n",
       "      <td>NaN</td>\n",
       "      <td>0.373</td>\n",
       "      <td>0.030</td>\n",
       "      <td>NaN</td>\n",
       "      <td>...</td>\n",
       "      <td>-0.167</td>\n",
       "      <td>0.557</td>\n",
       "      <td>0.107</td>\n",
       "      <td>0.388</td>\n",
       "      <td>-0.146</td>\n",
       "      <td>-0.368</td>\n",
       "      <td>-0.185</td>\n",
       "      <td>0.043</td>\n",
       "      <td>0.706</td>\n",
       "      <td>0.000</td>\n",
       "    </tr>\n",
       "    <tr>\n",
       "      <th>2</th>\n",
       "      <td>1.044</td>\n",
       "      <td>0.367</td>\n",
       "      <td>0.490</td>\n",
       "      <td>-0.550</td>\n",
       "      <td>-0.300</td>\n",
       "      <td>0.000</td>\n",
       "      <td>0.829</td>\n",
       "      <td>0.465</td>\n",
       "      <td>-0.867</td>\n",
       "      <td>-0.500</td>\n",
       "      <td>...</td>\n",
       "      <td>0.280</td>\n",
       "      <td>-0.247</td>\n",
       "      <td>0.964</td>\n",
       "      <td>0.295</td>\n",
       "      <td>1.238</td>\n",
       "      <td>1.480</td>\n",
       "      <td>0.642</td>\n",
       "      <td>1.567</td>\n",
       "      <td>-0.625</td>\n",
       "      <td>0.000</td>\n",
       "    </tr>\n",
       "  </tbody>\n",
       "</table>\n",
       "<p>3 rows × 32 columns</p>\n",
       "</div>"
      ],
      "text/plain": [
       "   num__AMT_CREDIT  num__AMT_ANNUITY  num__DAYS_BIRTH  num__DAYS_EMPLOYED  \\\n",
       "0           -0.591            -0.740            0.845                 NaN   \n",
       "1           -0.187            -0.121           -0.598               0.425   \n",
       "2            1.044             0.367            0.490              -0.550   \n",
       "\n",
       "   num__OWN_CAR_AGE  num__REG_CITY_NOT_LIVE_CITY  num__EXT_SOURCE_1  \\\n",
       "0            -0.400                        0.000                NaN   \n",
       "1               NaN                        0.000                NaN   \n",
       "2            -0.300                        0.000              0.829   \n",
       "\n",
       "   num__EXT_SOURCE_2  num__EXT_SOURCE_3  num__PREV_name_contract_refused  ...  \\\n",
       "0              0.074              0.828                              NaN  ...   \n",
       "1              0.373              0.030                              NaN  ...   \n",
       "2              0.465             -0.867                           -0.500  ...   \n",
       "\n",
       "   num__BU_debt_credit_sum_ratio_max  num__EXT_SOURCES_prod  \\\n",
       "0                             -0.797                  0.922   \n",
       "1                             -0.167                  0.557   \n",
       "2                              0.280                 -0.247   \n",
       "\n",
       "   num__EXT_SOURCES_sum  num__EXT_SOURCES_mean  num__amt_credit_annuity_ratio  \\\n",
       "0                 0.356                  0.766                         -0.242   \n",
       "1                 0.107                  0.388                         -0.146   \n",
       "2                 0.964                  0.295                          1.238   \n",
       "\n",
       "   num__amt_goods_price_annuity_ratio  num__amt_goods_price_credit_ratio  \\\n",
       "0                              -0.589                             -0.621   \n",
       "1                              -0.368                             -0.185   \n",
       "2                               1.480                              0.642   \n",
       "\n",
       "   num__amt_goods_price_children_ratio  num__days_employed_percent  \\\n",
       "0                               -0.386                         NaN   \n",
       "1                                0.043                       0.706   \n",
       "2                                1.567                      -0.625   \n",
       "\n",
       "   cat__NAME_EDUCATION_TYPE_Higher_education  \n",
       "0                                      0.000  \n",
       "1                                      0.000  \n",
       "2                                      0.000  \n",
       "\n",
       "[3 rows x 32 columns]"
      ]
     },
     "execution_count": 9,
     "metadata": {},
     "output_type": "execute_result"
    }
   ],
   "source": [
    "X_test, y_test= preprocess_and_drop_features(\n",
    "    df=df_test,\n",
    "    df_previous_transf=df_previous_transf,\n",
    "    df_installments_transf=df_installments_transf,\n",
    "    feats_to_keep=feats_to_keep,\n",
    ")\n",
    "print(X_test.shape, y_test.size)\n",
    "X_test.head(3)"
   ]
  },
  {
   "cell_type": "markdown",
   "metadata": {},
   "source": [
    "<h1 style=\"color:#C1524B\">Model Selection</h1>"
   ]
  },
  {
   "cell_type": "markdown",
   "metadata": {},
   "source": [
    "The following modeling solutions were defined. We start off by **setting the hyperparameters for the RandomSearch** for each of the defined models. The GridSearch is the responsible to find the best hyperparameters for each model while **it performs a cross-validation**. We used 5 cross-folds."
   ]
  },
  {
   "cell_type": "code",
   "execution_count": 28,
   "metadata": {},
   "outputs": [],
   "source": [
    "class_weights = compute_class_weight('balanced', classes=[0, 1], y=y_train)\n",
    "class_weight = {0: class_weights[0], 1: class_weights[1]}\n",
    "\n",
    "param_distributions = {\n",
    "    'DecisionTree': {\n",
    "        'model__max_depth': randint(3, 10),\n",
    "        'model__min_samples_leaf': randint(30, 101)\n",
    "    },\n",
    "    'XGBoost': {\n",
    "        'model__n_estimators': randint(10, 51),\n",
    "        'model__learning_rate': uniform(0.01, 0.05),\n",
    "        'model__max_depth': randint(3, 10)\n",
    "    },\n",
    "    'LGBM': {\n",
    "        'model__n_estimators': randint(10, 51),\n",
    "        'model__learning_rate': uniform(0.01, 0.05),\n",
    "        'model__max_depth': randint(3, 10),\n",
    "        'model__class_weight': [None, class_weight]\n",
    "    },\n",
    "    'CatBoost': {\n",
    "        'model__iterations': randint(10, 51),\n",
    "        'model__learning_rate': uniform(0.01, 0.05),\n",
    "        'model__depth': randint(3, 10),\n",
    "        'model__class_weights': [None, class_weight]\n",
    "    },\n",
    "}\n",
    "\n",
    "models = [\n",
    "    ('DecisionTree', DecisionTreeClassifier(random_state=1, class_weight='balanced')),\n",
    "    ('XGBoost', XGBClassifier(random_state=1, class_weight=class_weight)), \n",
    "    ('LGBM', LGBMClassifier(random_state=1, class_weight='balanced', verbose=-1)),\n",
    "    ('CatBoost', CatBoostClassifier(random_state=1, class_weights=class_weight, verbose=False)),\n",
    "]\n"
   ]
  },
  {
   "cell_type": "code",
   "execution_count": 29,
   "metadata": {},
   "outputs": [],
   "source": [
    "results = {}\n",
    "scorer = make_scorer(f1_score, pos_label=1)\n",
    "\n",
    "for model_name, model in models:\n",
    "    model_pipeline = Pipeline([\n",
    "        ('model', model)\n",
    "    ])\n",
    "\n",
    "    param_dist = param_distributions.get(model_name, {})\n",
    "    randomized_search = RandomizedSearchCV(model_pipeline, param_distributions=param_dist, n_iter=10, cv=5, scoring=scorer, random_state=1)\n",
    "    randomized_search.fit(X_train, y_train)\n",
    "\n",
    "    trained_model = randomized_search.best_estimator_.named_steps['model']\n",
    "    feature_importance = trained_model.feature_importances_\n",
    "    feature_importance_dict = dict(zip(X_train.columns, feature_importance))\n",
    "        \n",
    "    results[model_name] = {\n",
    "        'model': randomized_search.best_estimator_,\n",
    "        'best_params': randomized_search.best_params_,\n",
    "        'best_score': randomized_search.best_score_,\n",
    "        'feature_importance': feature_importance_dict\n",
    "    }\n"
   ]
  },
  {
   "cell_type": "code",
   "execution_count": null,
   "metadata": {},
   "outputs": [],
   "source": [
    "import numpy as np\n",
    "import matplotlib.pyplot as plt\n",
    "from sklearn.metrics import precision_recall_curve, average_precision_score\n",
    "\n",
    "# Function to perform threshold analysis and plot precision-recall curve\n",
    "def threshold_analysis(model, X, y, model_name):\n",
    "    # Predict probabilities for positive class\n",
    "    y_probs = model.predict_proba(X)[:, 1]\n",
    "\n",
    "    # Compute precision-recall curve\n",
    "    precision, recall, thresholds = precision_recall_curve(y, y_probs)\n",
    "    \n",
    "    # Compute average precision\n",
    "    avg_precision = average_precision_score(y, y_probs)\n",
    "\n",
    "    # Plot precision-recall curve\n",
    "    plt.figure(figsize=(8, 6))\n",
    "    plt.plot(recall, precision, label=f'{model_name} (AP = {avg_precision:.2f})')\n",
    "    plt.xlabel('Recall')\n",
    "    plt.ylabel('Precision')\n",
    "    plt.title(f'Precision-Recall Curve - {model_name}')\n",
    "    plt.legend(loc='lower left')\n",
    "    plt.show()\n",
    "\n",
    "# Perform threshold analysis for each model\n",
    "for model_name, result in results.items():\n",
    "    trained_model = result['model'].named_steps['model']\n",
    "    threshold_analysis(trained_model, X_valid, y_valid, model_name)\n"
   ]
  },
  {
   "cell_type": "code",
   "execution_count": 30,
   "metadata": {},
   "outputs": [
    {
     "data": {
      "image/png": "[encoded data removed]",
      "text/plain": [
       "<Figure size 800x600 with 1 Axes>"
      ]
     },
     "metadata": {},
     "output_type": "display_data"
    }
   ],
   "source": [
    "def plot_precision_recall_curve(model, X, y):\n",
    "    y_probs = model.predict_proba(X)[:, 1]\n",
    "    precision, recall, thresholds = precision_recall_curve(y, y_probs)\n",
    "\n",
    "    plt.figure(figsize=(8, 6))\n",
    "    plt.plot(recall, precision, label='Precision-Recall Curve')\n",
    "    plt.xlabel('Recall')\n",
    "    plt.ylabel('Precision')\n",
    "    plt.title('Precision-Recall Curve')\n",
    "    plt.legend()\n",
    "    plt.show()\n",
    "    \n",
    "xgb_model = results['XGBoost']['model'].named_steps['model']\n",
    "plot_precision_recall_curve(xgb_model, X_valid, y_valid)"
   ]
  },
  {
   "cell_type": "code",
   "execution_count": 40,
   "metadata": {},
   "outputs": [
    {
     "name": "stdout",
     "output_type": "stream",
     "text": [
      "Chosen Threshold for Recall 0.5: 0.12945763766765594\n"
     ]
    }
   ],
   "source": [
    "def find_threshold_for_recall(model, X, y, target_recall):\n",
    "    y_probs = model.predict_proba(X)[:, 1]\n",
    "    precision, recall, thresholds = precision_recall_curve(y, y_probs)\n",
    "\n",
    "    # Find index where recall is closest to the target recall\n",
    "    index = (np.abs(recall - target_recall)).argmin()\n",
    "\n",
    "    # Corresponding threshold\n",
    "    chosen_threshold = thresholds[index]\n",
    "\n",
    "    return chosen_threshold\n",
    "\n",
    "# Example: Choosing threshold for recall level of 0.8\n",
    "target_recall = 0.5\n",
    "chosen_threshold = find_threshold_for_recall(xgb_model, X_valid, y_valid, target_recall)\n",
    "print(f\"Chosen Threshold for Recall {target_recall}: {chosen_threshold}\")\n"
   ]
  },
  {
   "cell_type": "code",
   "execution_count": 45,
   "metadata": {},
   "outputs": [],
   "source": [
    "def apply_threshold(model, X, threshold):\n",
    "    y_probs = model.predict_proba(X)[:, 1]\n",
    "    y_pred = (y_probs >= threshold).astype(int)\n",
    "    return y_pred\n",
    "\n",
    "# Example: Applying chosen threshold to make predictions\n",
    "y_pred_thresholded = apply_threshold(xgb_model, X_valid, chosen_threshold)"
   ]
  },
  {
   "cell_type": "code",
   "execution_count": null,
   "metadata": {},
   "outputs": [],
   "source": []
  },
  {
   "cell_type": "code",
   "execution_count": null,
   "metadata": {},
   "outputs": [],
   "source": [
    "feature_importance_df = pd.DataFrame(list(results['XGBoost']['feature_importance'].items()), columns=['Feature', 'Importance'])\n",
    "feature_importance_df = feature_importance_df.sort_values(by='Importance', ascending=False)\n",
    "feature_importance_df"
   ]
  },
  {
   "cell_type": "code",
   "execution_count": null,
   "metadata": {},
   "outputs": [],
   "source": [
    "results"
   ]
  },
  {
   "cell_type": "code",
   "execution_count": 14,
   "metadata": {},
   "outputs": [
    {
     "data": {
      "text/html": [
       "<style>#sk-container-id-1 {color: black;}#sk-container-id-1 pre{padding: 0;}#sk-container-id-1 div.sk-toggleable {background-color: white;}#sk-container-id-1 label.sk-toggleable__label {cursor: pointer;display: block;width: 100%;margin-bottom: 0;padding: 0.3em;box-sizing: border-box;text-align: center;}#sk-container-id-1 label.sk-toggleable__label-arrow:before {content: \"▸\";float: left;margin-right: 0.25em;color: #696969;}#sk-container-id-1 label.sk-toggleable__label-arrow:hover:before {color: black;}#sk-container-id-1 div.sk-estimator:hover label.sk-toggleable__label-arrow:before {color: black;}#sk-container-id-1 div.sk-toggleable__content {max-height: 0;max-width: 0;overflow: hidden;text-align: left;background-color: #f0f8ff;}#sk-container-id-1 div.sk-toggleable__content pre {margin: 0.2em;color: black;border-radius: 0.25em;background-color: #f0f8ff;}#sk-container-id-1 input.sk-toggleable__control:checked~div.sk-toggleable__content {max-height: 200px;max-width: 100%;overflow: auto;}#sk-container-id-1 input.sk-toggleable__control:checked~label.sk-toggleable__label-arrow:before {content: \"▾\";}#sk-container-id-1 div.sk-estimator input.sk-toggleable__control:checked~label.sk-toggleable__label {background-color: #d4ebff;}#sk-container-id-1 div.sk-label input.sk-toggleable__control:checked~label.sk-toggleable__label {background-color: #d4ebff;}#sk-container-id-1 input.sk-hidden--visually {border: 0;clip: rect(1px 1px 1px 1px);clip: rect(1px, 1px, 1px, 1px);height: 1px;margin: -1px;overflow: hidden;padding: 0;position: absolute;width: 1px;}#sk-container-id-1 div.sk-estimator {font-family: monospace;background-color: #f0f8ff;border: 1px dotted black;border-radius: 0.25em;box-sizing: border-box;margin-bottom: 0.5em;}#sk-container-id-1 div.sk-estimator:hover {background-color: #d4ebff;}#sk-container-id-1 div.sk-parallel-item::after {content: \"\";width: 100%;border-bottom: 1px solid gray;flex-grow: 1;}#sk-container-id-1 div.sk-label:hover label.sk-toggleable__label {background-color: #d4ebff;}#sk-container-id-1 div.sk-serial::before {content: \"\";position: absolute;border-left: 1px solid gray;box-sizing: border-box;top: 0;bottom: 0;left: 50%;z-index: 0;}#sk-container-id-1 div.sk-serial {display: flex;flex-direction: column;align-items: center;background-color: white;padding-right: 0.2em;padding-left: 0.2em;position: relative;}#sk-container-id-1 div.sk-item {position: relative;z-index: 1;}#sk-container-id-1 div.sk-parallel {display: flex;align-items: stretch;justify-content: center;background-color: white;position: relative;}#sk-container-id-1 div.sk-item::before, #sk-container-id-1 div.sk-parallel-item::before {content: \"\";position: absolute;border-left: 1px solid gray;box-sizing: border-box;top: 0;bottom: 0;left: 50%;z-index: -1;}#sk-container-id-1 div.sk-parallel-item {display: flex;flex-direction: column;z-index: 1;position: relative;background-color: white;}#sk-container-id-1 div.sk-parallel-item:first-child::after {align-self: flex-end;width: 50%;}#sk-container-id-1 div.sk-parallel-item:last-child::after {align-self: flex-start;width: 50%;}#sk-container-id-1 div.sk-parallel-item:only-child::after {width: 0;}#sk-container-id-1 div.sk-dashed-wrapped {border: 1px dashed gray;margin: 0 0.4em 0.5em 0.4em;box-sizing: border-box;padding-bottom: 0.4em;background-color: white;}#sk-container-id-1 div.sk-label label {font-family: monospace;font-weight: bold;display: inline-block;line-height: 1.2em;}#sk-container-id-1 div.sk-label-container {text-align: center;}#sk-container-id-1 div.sk-container {/* jupyter's `normalize.less` sets `[hidden] { display: none; }` but bootstrap.min.css set `[hidden] { display: none !important; }` so we also need the `!important` here to be able to override the default hidden behavior on the sphinx rendered scikit-learn.org. See: https://github.com/scikit-learn/scikit-learn/issues/21755 */display: inline-block !important;position: relative;}#sk-container-id-1 div.sk-text-repr-fallback {display: none;}</style><div id=\"sk-container-id-1\" class=\"sk-top-container\"><div class=\"sk-text-repr-fallback\"><pre>DecisionTreeClassifier(class_weight=&#x27;balanced&#x27;, max_depth=7,\n",
       "                       min_samples_leaf=58, random_state=1)</pre><b>In a Jupyter environment, please rerun this cell to show the HTML representation or trust the notebook. <br />On GitHub, the HTML representation is unable to render, please try loading this page with nbviewer.org.</b></div><div class=\"sk-container\" hidden><div class=\"sk-item\"><div class=\"sk-estimator sk-toggleable\"><input class=\"sk-toggleable__control sk-hidden--visually\" id=\"sk-estimator-id-1\" type=\"checkbox\" checked><label for=\"sk-estimator-id-1\" class=\"sk-toggleable__label sk-toggleable__label-arrow\">DecisionTreeClassifier</label><div class=\"sk-toggleable__content\"><pre>DecisionTreeClassifier(class_weight=&#x27;balanced&#x27;, max_depth=7,\n",
       "                       min_samples_leaf=58, random_state=1)</pre></div></div></div></div></div>"
      ],
      "text/plain": [
       "DecisionTreeClassifier(class_weight='balanced', max_depth=7,\n",
       "                       min_samples_leaf=58, random_state=1)"
      ]
     },
     "execution_count": 14,
     "metadata": {},
     "output_type": "execute_result"
    }
   ],
   "source": [
    "results['DecisionTree']['model'].named_steps['model']"
   ]
  },
  {
   "cell_type": "code",
   "execution_count": 15,
   "metadata": {},
   "outputs": [
    {
     "name": "stdout",
     "output_type": "stream",
     "text": [
      "Model ROC AUC Scores:\n",
      "DecisionTree: 0.257\n",
      "XGBoost: 0.0145\n",
      "LGBM: 0.268\n",
      "CatBoost: 0.268\n"
     ]
    }
   ],
   "source": [
    "print(\"Model ROC AUC Scores:\")\n",
    "for model_name, result in results.items():\n",
    "    print(f\"{model_name}: {result['best_score']:.3}\")"
   ]
  },
  {
   "cell_type": "markdown",
   "metadata": {},
   "source": [
    "As we can see, our models perfom very good at the provided task. **All presenting f1-score above 0.95** for the majority class. The best model was obtained with an XGBoost.\n",
    "\n",
    "Although these are coefficients provided in a cross-validation setting, **due to our large amount of data, we will use a separate validation set to check the results**.\n",
    "\n",
    "We will start by cleaning some of the variables on the memory, loading the validation dataset and applying the necessary pipelines."
   ]
  },
  {
   "cell_type": "markdown",
   "metadata": {},
   "source": [
    "Let's define variables for our best models and run the predictions"
   ]
  },
  {
   "cell_type": "code",
   "execution_count": 42,
   "metadata": {},
   "outputs": [],
   "source": [
    "dt_model = results['DecisionTree']['model'].named_steps['model']\n",
    "xgb_model = results['XGBoost']['model'].named_steps['model']\n",
    "lgbm_model = results['LGBM']['model'].named_steps['model']\n",
    "catb_model = results['CatBoost']['model'].named_steps['model']\n",
    "\n",
    "y_dt = dt_model.predict(X_valid)\n",
    "y_xgb = xgb_model.predict(X_valid)\n",
    "y_lgbm = lgbm_model.predict(X_valid)\n",
    "y_catb = catb_model.predict(X_valid)\n",
    "\n",
    "# predict probabilities\n",
    "probs_dt = dt_model.predict_proba(X_valid)[:, 1]\n",
    "probs_xgb = xgb_model.predict_proba(X_valid)[:, 1]\n",
    "probs_lgbm = lgbm_model.predict_proba(X_valid)[:, 1]\n",
    "probs_catb = catb_model.predict_proba(X_valid)[:, 1]"
   ]
  },
  {
   "cell_type": "markdown",
   "metadata": {},
   "source": []
  },
  {
   "cell_type": "markdown",
   "metadata": {},
   "source": [
    "Let's evaluate these models first based on their f1-score and recall and then jump to the confusion matrices."
   ]
  },
  {
   "cell_type": "code",
   "execution_count": 43,
   "metadata": {},
   "outputs": [
    {
     "name": "stdout",
     "output_type": "stream",
     "text": [
      "DecisionTree\n",
      "F1-Score: 0.247 ; Recall: 0.668\n",
      "\n",
      "XGBoost\n",
      "F1-Score: 0.009 ; Recall: 0.004\n",
      "\n",
      "LGBM\n",
      "F1-Score: 0.266 ; Recall: 0.678\n",
      "\n",
      "CatBoost\n",
      "F1-Score: 0.266 ; Recall: 0.663\n",
      "\n"
     ]
    }
   ],
   "source": [
    "models = {\n",
    "    'DecisionTree': (y_dt, probs_dt),\n",
    "    'XGBoost': (y_xgb, probs_xgb),\n",
    "    'LGBM': (y_lgbm, probs_lgbm),\n",
    "    'CatBoost': (y_catb, probs_catb),\n",
    "}\n",
    "\n",
    "for model_name, y_pred in models.items():\n",
    "    f1 = f1_score(y_valid, y_pred[0])\n",
    "    recall = recall_score(y_valid, y_pred[0])\n",
    "    print(f\"{model_name}\")\n",
    "    print(f\"F1-Score: {f1:.3f} ; Recall: {recall:.3f}\\n\")"
   ]
  },
  {
   "cell_type": "markdown",
   "metadata": {},
   "source": [
    "The F1-Scores are very similar as for the training dataset. Highlighting that our models are not overfitting and simply predicting well. The XGBoost is kept as the best model with 0.98 recall.\n",
    "\n",
    "Let's see the results in a **confusion matrix**. The values exposed there are normalized and represent percentages in relation to true values."
   ]
  },
  {
   "cell_type": "code",
   "execution_count": 46,
   "metadata": {},
   "outputs": [
    {
     "data": {
      "image/png": "[encoded data removed]",
      "text/plain": [
       "<Figure size 1000x800 with 4 Axes>"
      ]
     },
     "metadata": {},
     "output_type": "display_data"
    }
   ],
   "source": [
    "fig, axes = plt.subplots(2, 2, figsize=(10, 8))\n",
    "\n",
    "for model_name, y_pred, ax in zip(models.keys(), models.values(), axes.flatten()):\n",
    "    cm_display = ConfusionMatrixDisplay.from_predictions(y_valid, y_pred[0], normalize='true',\n",
    "                                                                  cmap='Blues', ax=ax, colorbar=False,)\n",
    "                                                                  #display_labels=[\"Rejected\", \"Accepted\"])\n",
    "    f1 = f1_score(y_valid, y_pred[0])\n",
    "    ax.set_title(f\"{model_name}\\nF1-Score: {f1:.2f}\")\n",
    "\n",
    "plt.tight_layout(pad=4)"
   ]
  },
  {
   "cell_type": "markdown",
   "metadata": {},
   "source": [
    "These confusion matrices provided a good example of the importance of checking several metrics before choosing a model. As we can see, the XGBoost model does not perform so well for the minority class (84% correctly predicted as accepted).\n",
    "\n",
    "All of the other models perform very well on both classes and solely based on that could be chosen as our model. The logistic regression performs slightly better at predicting clients who should have their loan accepted. Let's further evaluate before making a decision. \n",
    "\n",
    "Let's check the results in a **ROC_AUC Curve** to have another visual representation of the results."
   ]
  },
  {
   "cell_type": "code",
   "execution_count": 24,
   "metadata": {},
   "outputs": [
    {
     "data": {
      "image/png": "[encoded data removed]",
      "text/plain": [
       "<Figure size 600x600 with 1 Axes>"
      ]
     },
     "metadata": {},
     "output_type": "display_data"
    }
   ],
   "source": [
    "fig, ax = plt.subplots(figsize=(6, 6))\n",
    "roc_displays = []\n",
    "\n",
    "for model_name, y_pred in models.items():\n",
    "    roc_display = RocCurveDisplay.from_predictions(y_valid, y_pred[1], name=model_name, ax=ax)\n",
    "    roc_displays.append(roc_display)\n",
    "    ax.plot([0, 1], [0, 1], color='grey', lw=1, linestyle='--')\n",
    "\n",
    "ax.set_title(\"Combined ROC Curves\");"
   ]
  },
  {
   "cell_type": "code",
   "execution_count": null,
   "metadata": {},
   "outputs": [],
   "source": []
  },
  {
   "cell_type": "code",
   "execution_count": null,
   "metadata": {},
   "outputs": [],
   "source": []
  },
  {
   "cell_type": "code",
   "execution_count": null,
   "metadata": {},
   "outputs": [],
   "source": []
  },
  {
   "cell_type": "code",
   "execution_count": null,
   "metadata": {},
   "outputs": [],
   "source": []
  },
  {
   "cell_type": "code",
   "execution_count": null,
   "metadata": {},
   "outputs": [],
   "source": []
  },
  {
   "cell_type": "code",
   "execution_count": null,
   "metadata": {},
   "outputs": [],
   "source": []
  },
  {
   "cell_type": "markdown",
   "metadata": {},
   "source": [
    "This project highlighted that scoring a model for ROC AUC will not necessarily to optimize the area under the Precision-Recall curve (XGBoost example). And made me question if by choosing to score on f1 maybe I could have obtained more true positives for defaulters.\n",
    "\n",
    "How to improve the model results:\n",
    "- Invest time on the inexplored dataframes;\n",
    "- Bring more aggregated features from the previous application/installments to the model;\n",
    "- Compute interest rates;\n",
    "- Create new aggregations for subsamples of the dataframes, i.e. NAME_PRODUCT_TYPE == \"Approved\"/\"Cancelled\", or CREDIT_ACTIVE == \"bad debt\"; \n",
    "- Try to impute values and check if there is increase in performance;\n",
    "\n",
    "General improvements:\n",
    "- To improve the workflow, some investiment can be done on the pipelines and creating mechanisms to integrate the data better;\n",
    "- Correlations can be transformed into a function and put in EDA.py."
   ]
  }
 ],
 "metadata": {
  "kernelspec": {
   "display_name": "base",
   "language": "python",
   "name": "python3"
  },
  "language_info": {
   "codemirror_mode": {
    "name": "ipython",
    "version": 3
   },
   "file_extension": ".py",
   "mimetype": "text/x-python",
   "name": "python",
   "nbconvert_exporter": "python",
   "pygments_lexer": "ipython3",
   "version": "3.11.5"
  }
 },
 "nbformat": 4,
 "nbformat_minor": 2
}
