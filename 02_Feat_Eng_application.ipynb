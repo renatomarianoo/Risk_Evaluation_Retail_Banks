{
 "cells": [
  {
   "cell_type": "markdown",
   "metadata": {},
   "source": [
    "<p style=\"background:#83739E; color:white; font-size: 2.1em; text-align:center\"> \n",
    "    <br><b>Risk Evaluation for Retail Banks</b><br>\n",
    "    <br>Feature Engineering - Application Data<br><br> \n",
    "</p>"
   ]
  },
  {
   "cell_type": "markdown",
   "metadata": {},
   "source": [
    "<p style=\"text-align: right;\">Module 4: Machine Learning<br>\n",
    "Sprint 4: Machine Learning Capstone Project<br>\n",
    "Author : Renato Mariano</p>"
   ]
  },
  {
   "cell_type": "markdown",
   "metadata": {},
   "source": [
    "<h1 style=\"color:#774CAD\">Introduction </h1>"
   ]
  },
  {
   "cell_type": "markdown",
   "metadata": {},
   "source": [
    "Welcome to the Capstone Project of of the Machine Learning Module! In this sprint, we embark on an exciting journey to develop a **risk evaluation service for retail banks**, leveraging the power of data science and machine learning.\n",
    "\n",
    "This work is part of a series of notebooks starting with 01_EDA_application.\n",
    "\n",
    "In the previous notebook we delved into an Exploration of the Application Data. Here will start our feature engineering on this set!"
   ]
  },
  {
   "cell_type": "markdown",
   "metadata": {},
   "source": [
    "<h2 style=\"color:#774CAD\">Library Imports and Notebook Setup</h2>"
   ]
  },
  {
   "cell_type": "code",
   "execution_count": 1,
   "metadata": {},
   "outputs": [],
   "source": [
    "import pandas as pd\n",
    "import numpy as np\n",
    "import matplotlib.pyplot as plt\n",
    "import seaborn as sns\n",
    "from rapidfuzz import process\n",
    "import re\n",
    "\n",
    "from utils import utils\n",
    "from utils import EDA\n",
    "from feature_models import feat_eng\n",
    "from feature_models import pipelines\n",
    "from feature_models import model_select\n",
    "\n",
    "from sklearn.compose import ColumnTransformer\n",
    "from sklearn.pipeline import Pipeline\n",
    "from sklearn.preprocessing import RobustScaler, OrdinalEncoder, OneHotEncoder\n",
    "from feature_engine.encoding import RareLabelEncoder\n",
    "from sklearn.base import BaseEstimator, TransformerMixin\n",
    "\n",
    "from sklearn.model_selection import RandomizedSearchCV\n",
    "from sklearn.utils.class_weight import compute_class_weight\n",
    "from scipy.stats import randint, uniform\n",
    "from lightgbm import LGBMClassifier\n"
   ]
  },
  {
   "cell_type": "code",
   "execution_count": 2,
   "metadata": {},
   "outputs": [],
   "source": [
    "import warnings\n",
    "warnings.filterwarnings('ignore')\n",
    "\n",
    "pd.set_option('display.float_format', lambda x: '%.3f' % x)\n",
    "\n",
    "from IPython.core.display import HTML\n",
    "HTML(\"\"\"\n",
    "<style>\n",
    ".output_png {\n",
    "    display: table-cell;\n",
    "    text-align: center;\n",
    "    vertical-align: middle;\n",
    "}\n",
    "</style>\n",
    "\"\"\")\n",
    "\n",
    "%load_ext blackcellmagic"
   ]
  },
  {
   "cell_type": "markdown",
   "metadata": {},
   "source": [
    "<h1 style=\"color:#774CAD\">Multicolinear Features and Organization Type</h1>"
   ]
  },
  {
   "cell_type": "markdown",
   "metadata": {},
   "source": [
    "We will build this notebook up by **applying transformations** to the dataframe and after a couples of transformations we will **run a LightGBM** in the same random state to **evaluate its performance**.\n",
    "\n",
    "This approach was chosen since I have very limited domain knowledge of loans and influencing factors for loan defaulters. In this context the model will highlight which features have a greater predicting impact.\n",
    "\n",
    "Let's load our data and separate our features and target."
   ]
  },
  {
   "cell_type": "code",
   "execution_count": 3,
   "metadata": {},
   "outputs": [
    {
     "name": "stdout",
     "output_type": "stream",
     "text": [
      "The shape of the data is: (153755, 122)\n",
      "load_df took 2.585 seconds\n",
      "\n",
      "The shape of the data is: (219, 5)\n",
      "load_df took 0.019 seconds\n",
      "\n",
      "Shape: (153755, 122)\n",
      "\n"
     ]
    }
   ],
   "source": [
    "df_train = utils.load_df(file_path=\"data/df_train.csv\")\n",
    "col_info = utils.load_df(file_path=\"data/home-credit-default-risk/HomeCredit_columns_description.csv\", encoding='unicode_escape')\n",
    "df_info = EDA.custom_info(df_train)\n",
    "\n",
    "X_train = df_train.drop([\"TARGET\", \"SK_ID_CURR\"], axis=1)\n",
    "y_train = df_train[\"TARGET\"]"
   ]
  },
  {
   "cell_type": "markdown",
   "metadata": {},
   "source": [
    "As previously shown **YEARS_BEGINEXPLUATATION_MEDI has 0 values that don't flag having a house**. We will **treat them as Null**.\n",
    "\n",
    "The features starting with **\"DAYS_\"** presented values growing in the negative scale, maybe to highlight the time passed to the model. Here they will **multiply them by -1**. Besides, for **DAYS_EMPLOYED** we will flag the anomalies and attribute null values.\n",
    "\n",
    "We will also apply a **map to the Organization type**."
   ]
  },
  {
   "cell_type": "code",
   "execution_count": 4,
   "metadata": {},
   "outputs": [
    {
     "data": {
      "text/plain": [
       "<module 'feature_models.feat_eng' from 'c:\\\\Users\\\\renat\\\\TCProjects\\\\M3_S4_Capstone\\\\feature_models\\\\feat_eng.py'>"
      ]
     },
     "execution_count": 4,
     "metadata": {},
     "output_type": "execute_result"
    }
   ],
   "source": [
    "import importlib\n",
    "importlib.reload(feat_eng)"
   ]
  },
  {
   "cell_type": "code",
   "execution_count": 5,
   "metadata": {},
   "outputs": [],
   "source": [
    "feat_eng_pipe1 = Pipeline(\n",
    "    steps=[\n",
    "        ('zero_null_transformer', feat_eng.ZeroToNullTransformer(columns=\"YEARS_BEGINEXPLUATATION_MEDI\")),\n",
    "        ('multiply_by_neg1', feat_eng.MultiplyByNeg1(columns=[col for col in df_train.columns if col.startswith('DAYS_')])),\n",
    "        ('days_empl_anomaly', feat_eng.HandleDaysEmployedAnomaly()),\n",
    "        ('map_loan_titles', feat_eng.ApplyMapToOrganization(column=\"ORGANIZATION_TYPE\", similarity_threshold=70)),\n",
    "    ]\n",
    ")"
   ]
  },
  {
   "cell_type": "markdown",
   "metadata": {},
   "source": [
    "At this point we defined a function to get our current numerical and categorical features (utils.extract_features)."
   ]
  },
  {
   "cell_type": "code",
   "execution_count": 6,
   "metadata": {},
   "outputs": [],
   "source": [
    "X_train_FE = feat_eng_pipe1.fit_transform(X_train)\n",
    "num_feats, cat_feats, binary_feats, highcard_feats = utils.extract_features(X_train_FE)"
   ]
  },
  {
   "cell_type": "markdown",
   "metadata": {},
   "source": [
    "<h1 style=\"color:#774CAD\">Preprocessing Pipeline</h1>"
   ]
  },
  {
   "cell_type": "markdown",
   "metadata": {},
   "source": [
    "Our preprocessing pipeline will include:\n",
    "- LabelEncoder for binary features.\n",
    "- RareEncoder and One-Hot-Encoder for high cardinality features.\n",
    "- RobustEncoder for continuous features.\n",
    "\n",
    "Here we did not yet fill null values and the initial idea will be to make use of models that run on this condition."
   ]
  },
  {
   "cell_type": "code",
   "execution_count": 7,
   "metadata": {},
   "outputs": [
    {
     "data": {
      "text/html": [
       "<style>#sk-container-id-1 {color: black;}#sk-container-id-1 pre{padding: 0;}#sk-container-id-1 div.sk-toggleable {background-color: white;}#sk-container-id-1 label.sk-toggleable__label {cursor: pointer;display: block;width: 100%;margin-bottom: 0;padding: 0.3em;box-sizing: border-box;text-align: center;}#sk-container-id-1 label.sk-toggleable__label-arrow:before {content: \"▸\";float: left;margin-right: 0.25em;color: #696969;}#sk-container-id-1 label.sk-toggleable__label-arrow:hover:before {color: black;}#sk-container-id-1 div.sk-estimator:hover label.sk-toggleable__label-arrow:before {color: black;}#sk-container-id-1 div.sk-toggleable__content {max-height: 0;max-width: 0;overflow: hidden;text-align: left;background-color: #f0f8ff;}#sk-container-id-1 div.sk-toggleable__content pre {margin: 0.2em;color: black;border-radius: 0.25em;background-color: #f0f8ff;}#sk-container-id-1 input.sk-toggleable__control:checked~div.sk-toggleable__content {max-height: 200px;max-width: 100%;overflow: auto;}#sk-container-id-1 input.sk-toggleable__control:checked~label.sk-toggleable__label-arrow:before {content: \"▾\";}#sk-container-id-1 div.sk-estimator input.sk-toggleable__control:checked~label.sk-toggleable__label {background-color: #d4ebff;}#sk-container-id-1 div.sk-label input.sk-toggleable__control:checked~label.sk-toggleable__label {background-color: #d4ebff;}#sk-container-id-1 input.sk-hidden--visually {border: 0;clip: rect(1px 1px 1px 1px);clip: rect(1px, 1px, 1px, 1px);height: 1px;margin: -1px;overflow: hidden;padding: 0;position: absolute;width: 1px;}#sk-container-id-1 div.sk-estimator {font-family: monospace;background-color: #f0f8ff;border: 1px dotted black;border-radius: 0.25em;box-sizing: border-box;margin-bottom: 0.5em;}#sk-container-id-1 div.sk-estimator:hover {background-color: #d4ebff;}#sk-container-id-1 div.sk-parallel-item::after {content: \"\";width: 100%;border-bottom: 1px solid gray;flex-grow: 1;}#sk-container-id-1 div.sk-label:hover label.sk-toggleable__label {background-color: #d4ebff;}#sk-container-id-1 div.sk-serial::before {content: \"\";position: absolute;border-left: 1px solid gray;box-sizing: border-box;top: 0;bottom: 0;left: 50%;z-index: 0;}#sk-container-id-1 div.sk-serial {display: flex;flex-direction: column;align-items: center;background-color: white;padding-right: 0.2em;padding-left: 0.2em;position: relative;}#sk-container-id-1 div.sk-item {position: relative;z-index: 1;}#sk-container-id-1 div.sk-parallel {display: flex;align-items: stretch;justify-content: center;background-color: white;position: relative;}#sk-container-id-1 div.sk-item::before, #sk-container-id-1 div.sk-parallel-item::before {content: \"\";position: absolute;border-left: 1px solid gray;box-sizing: border-box;top: 0;bottom: 0;left: 50%;z-index: -1;}#sk-container-id-1 div.sk-parallel-item {display: flex;flex-direction: column;z-index: 1;position: relative;background-color: white;}#sk-container-id-1 div.sk-parallel-item:first-child::after {align-self: flex-end;width: 50%;}#sk-container-id-1 div.sk-parallel-item:last-child::after {align-self: flex-start;width: 50%;}#sk-container-id-1 div.sk-parallel-item:only-child::after {width: 0;}#sk-container-id-1 div.sk-dashed-wrapped {border: 1px dashed gray;margin: 0 0.4em 0.5em 0.4em;box-sizing: border-box;padding-bottom: 0.4em;background-color: white;}#sk-container-id-1 div.sk-label label {font-family: monospace;font-weight: bold;display: inline-block;line-height: 1.2em;}#sk-container-id-1 div.sk-label-container {text-align: center;}#sk-container-id-1 div.sk-container {/* jupyter's `normalize.less` sets `[hidden] { display: none; }` but bootstrap.min.css set `[hidden] { display: none !important; }` so we also need the `!important` here to be able to override the default hidden behavior on the sphinx rendered scikit-learn.org. See: https://github.com/scikit-learn/scikit-learn/issues/21755 */display: inline-block !important;position: relative;}#sk-container-id-1 div.sk-text-repr-fallback {display: none;}</style><div id=\"sk-container-id-1\" class=\"sk-top-container\"><div class=\"sk-text-repr-fallback\"><pre>ColumnTransformer(transformers=[(&#x27;num&#x27;,\n",
       "                                 Pipeline(steps=[(&#x27;robust_scaler&#x27;,\n",
       "                                                  RobustScaler())]),\n",
       "                                 Index([&#x27;CNT_CHILDREN&#x27;, &#x27;AMT_INCOME_TOTAL&#x27;, &#x27;AMT_CREDIT&#x27;, &#x27;AMT_ANNUITY&#x27;,\n",
       "       &#x27;AMT_GOODS_PRICE&#x27;, &#x27;REGION_POPULATION_RELATIVE&#x27;, &#x27;DAYS_BIRTH&#x27;,\n",
       "       &#x27;DAYS_EMPLOYED&#x27;, &#x27;DAYS_REGISTRATION&#x27;, &#x27;DAYS_ID_PUBLISH&#x27;,\n",
       "       ...\n",
       "       &#x27;FLAG_DOCUMENT_19&#x27;, &#x27;FLAG_DOCUMENT_20&#x27;, &#x27;FLAG_DOCUMENT_21&#x27;,\n",
       "       &#x27;AMT_REQ_CREDIT_BU...\n",
       "                                                 (&#x27;one_hot_encoder&#x27;,\n",
       "                                                  OneHotEncoder(handle_unknown=&#x27;ignore&#x27;,\n",
       "                                                                sparse_output=False))]),\n",
       "                                 Index([&#x27;CODE_GENDER&#x27;, &#x27;NAME_TYPE_SUITE&#x27;, &#x27;NAME_INCOME_TYPE&#x27;,\n",
       "       &#x27;NAME_EDUCATION_TYPE&#x27;, &#x27;NAME_FAMILY_STATUS&#x27;, &#x27;NAME_HOUSING_TYPE&#x27;,\n",
       "       &#x27;OCCUPATION_TYPE&#x27;, &#x27;WEEKDAY_APPR_PROCESS_START&#x27;, &#x27;FONDKAPREMONT_MODE&#x27;,\n",
       "       &#x27;HOUSETYPE_MODE&#x27;, &#x27;WALLSMATERIAL_MODE&#x27;, &#x27;ORGANIZATION_TYPE_Grouped&#x27;],\n",
       "      dtype=&#x27;object&#x27;))])</pre><b>In a Jupyter environment, please rerun this cell to show the HTML representation or trust the notebook. <br />On GitHub, the HTML representation is unable to render, please try loading this page with nbviewer.org.</b></div><div class=\"sk-container\" hidden><div class=\"sk-item sk-dashed-wrapped\"><div class=\"sk-label-container\"><div class=\"sk-label sk-toggleable\"><input class=\"sk-toggleable__control sk-hidden--visually\" id=\"sk-estimator-id-1\" type=\"checkbox\" ><label for=\"sk-estimator-id-1\" class=\"sk-toggleable__label sk-toggleable__label-arrow\">ColumnTransformer</label><div class=\"sk-toggleable__content\"><pre>ColumnTransformer(transformers=[(&#x27;num&#x27;,\n",
       "                                 Pipeline(steps=[(&#x27;robust_scaler&#x27;,\n",
       "                                                  RobustScaler())]),\n",
       "                                 Index([&#x27;CNT_CHILDREN&#x27;, &#x27;AMT_INCOME_TOTAL&#x27;, &#x27;AMT_CREDIT&#x27;, &#x27;AMT_ANNUITY&#x27;,\n",
       "       &#x27;AMT_GOODS_PRICE&#x27;, &#x27;REGION_POPULATION_RELATIVE&#x27;, &#x27;DAYS_BIRTH&#x27;,\n",
       "       &#x27;DAYS_EMPLOYED&#x27;, &#x27;DAYS_REGISTRATION&#x27;, &#x27;DAYS_ID_PUBLISH&#x27;,\n",
       "       ...\n",
       "       &#x27;FLAG_DOCUMENT_19&#x27;, &#x27;FLAG_DOCUMENT_20&#x27;, &#x27;FLAG_DOCUMENT_21&#x27;,\n",
       "       &#x27;AMT_REQ_CREDIT_BU...\n",
       "                                                 (&#x27;one_hot_encoder&#x27;,\n",
       "                                                  OneHotEncoder(handle_unknown=&#x27;ignore&#x27;,\n",
       "                                                                sparse_output=False))]),\n",
       "                                 Index([&#x27;CODE_GENDER&#x27;, &#x27;NAME_TYPE_SUITE&#x27;, &#x27;NAME_INCOME_TYPE&#x27;,\n",
       "       &#x27;NAME_EDUCATION_TYPE&#x27;, &#x27;NAME_FAMILY_STATUS&#x27;, &#x27;NAME_HOUSING_TYPE&#x27;,\n",
       "       &#x27;OCCUPATION_TYPE&#x27;, &#x27;WEEKDAY_APPR_PROCESS_START&#x27;, &#x27;FONDKAPREMONT_MODE&#x27;,\n",
       "       &#x27;HOUSETYPE_MODE&#x27;, &#x27;WALLSMATERIAL_MODE&#x27;, &#x27;ORGANIZATION_TYPE_Grouped&#x27;],\n",
       "      dtype=&#x27;object&#x27;))])</pre></div></div></div><div class=\"sk-parallel\"><div class=\"sk-parallel-item\"><div class=\"sk-item\"><div class=\"sk-label-container\"><div class=\"sk-label sk-toggleable\"><input class=\"sk-toggleable__control sk-hidden--visually\" id=\"sk-estimator-id-2\" type=\"checkbox\" ><label for=\"sk-estimator-id-2\" class=\"sk-toggleable__label sk-toggleable__label-arrow\">num</label><div class=\"sk-toggleable__content\"><pre>Index([&#x27;CNT_CHILDREN&#x27;, &#x27;AMT_INCOME_TOTAL&#x27;, &#x27;AMT_CREDIT&#x27;, &#x27;AMT_ANNUITY&#x27;,\n",
       "       &#x27;AMT_GOODS_PRICE&#x27;, &#x27;REGION_POPULATION_RELATIVE&#x27;, &#x27;DAYS_BIRTH&#x27;,\n",
       "       &#x27;DAYS_EMPLOYED&#x27;, &#x27;DAYS_REGISTRATION&#x27;, &#x27;DAYS_ID_PUBLISH&#x27;,\n",
       "       ...\n",
       "       &#x27;FLAG_DOCUMENT_19&#x27;, &#x27;FLAG_DOCUMENT_20&#x27;, &#x27;FLAG_DOCUMENT_21&#x27;,\n",
       "       &#x27;AMT_REQ_CREDIT_BUREAU_HOUR&#x27;, &#x27;AMT_REQ_CREDIT_BUREAU_DAY&#x27;,\n",
       "       &#x27;AMT_REQ_CREDIT_BUREAU_WEEK&#x27;, &#x27;AMT_REQ_CREDIT_BUREAU_MON&#x27;,\n",
       "       &#x27;AMT_REQ_CREDIT_BUREAU_QRT&#x27;, &#x27;AMT_REQ_CREDIT_BUREAU_YEAR&#x27;,\n",
       "       &#x27;DAYS_EMPLOYED_anom&#x27;],\n",
       "      dtype=&#x27;object&#x27;, length=105)</pre></div></div></div><div class=\"sk-serial\"><div class=\"sk-item\"><div class=\"sk-serial\"><div class=\"sk-item\"><div class=\"sk-estimator sk-toggleable\"><input class=\"sk-toggleable__control sk-hidden--visually\" id=\"sk-estimator-id-3\" type=\"checkbox\" ><label for=\"sk-estimator-id-3\" class=\"sk-toggleable__label sk-toggleable__label-arrow\">RobustScaler</label><div class=\"sk-toggleable__content\"><pre>RobustScaler()</pre></div></div></div></div></div></div></div></div><div class=\"sk-parallel-item\"><div class=\"sk-item\"><div class=\"sk-label-container\"><div class=\"sk-label sk-toggleable\"><input class=\"sk-toggleable__control sk-hidden--visually\" id=\"sk-estimator-id-4\" type=\"checkbox\" ><label for=\"sk-estimator-id-4\" class=\"sk-toggleable__label sk-toggleable__label-arrow\">bin</label><div class=\"sk-toggleable__content\"><pre>Index([&#x27;NAME_CONTRACT_TYPE&#x27;, &#x27;FLAG_OWN_CAR&#x27;, &#x27;FLAG_OWN_REALTY&#x27;,\n",
       "       &#x27;EMERGENCYSTATE_MODE&#x27;],\n",
       "      dtype=&#x27;object&#x27;)</pre></div></div></div><div class=\"sk-serial\"><div class=\"sk-item\"><div class=\"sk-serial\"><div class=\"sk-item\"><div class=\"sk-estimator sk-toggleable\"><input class=\"sk-toggleable__control sk-hidden--visually\" id=\"sk-estimator-id-5\" type=\"checkbox\" ><label for=\"sk-estimator-id-5\" class=\"sk-toggleable__label sk-toggleable__label-arrow\">OrdinalEncoder</label><div class=\"sk-toggleable__content\"><pre>OrdinalEncoder(handle_unknown=&#x27;use_encoded_value&#x27;, unknown_value=-1)</pre></div></div></div></div></div></div></div></div><div class=\"sk-parallel-item\"><div class=\"sk-item\"><div class=\"sk-label-container\"><div class=\"sk-label sk-toggleable\"><input class=\"sk-toggleable__control sk-hidden--visually\" id=\"sk-estimator-id-6\" type=\"checkbox\" ><label for=\"sk-estimator-id-6\" class=\"sk-toggleable__label sk-toggleable__label-arrow\">cat</label><div class=\"sk-toggleable__content\"><pre>Index([&#x27;CODE_GENDER&#x27;, &#x27;NAME_TYPE_SUITE&#x27;, &#x27;NAME_INCOME_TYPE&#x27;,\n",
       "       &#x27;NAME_EDUCATION_TYPE&#x27;, &#x27;NAME_FAMILY_STATUS&#x27;, &#x27;NAME_HOUSING_TYPE&#x27;,\n",
       "       &#x27;OCCUPATION_TYPE&#x27;, &#x27;WEEKDAY_APPR_PROCESS_START&#x27;, &#x27;FONDKAPREMONT_MODE&#x27;,\n",
       "       &#x27;HOUSETYPE_MODE&#x27;, &#x27;WALLSMATERIAL_MODE&#x27;, &#x27;ORGANIZATION_TYPE_Grouped&#x27;],\n",
       "      dtype=&#x27;object&#x27;)</pre></div></div></div><div class=\"sk-serial\"><div class=\"sk-item\"><div class=\"sk-serial\"><div class=\"sk-item\"><div class=\"sk-estimator sk-toggleable\"><input class=\"sk-toggleable__control sk-hidden--visually\" id=\"sk-estimator-id-7\" type=\"checkbox\" ><label for=\"sk-estimator-id-7\" class=\"sk-toggleable__label sk-toggleable__label-arrow\">RareLabelEncoder</label><div class=\"sk-toggleable__content\"><pre>RareLabelEncoder(missing_values=&#x27;ignore&#x27;, n_categories=1, tol=0.02)</pre></div></div></div><div class=\"sk-item\"><div class=\"sk-estimator sk-toggleable\"><input class=\"sk-toggleable__control sk-hidden--visually\" id=\"sk-estimator-id-8\" type=\"checkbox\" ><label for=\"sk-estimator-id-8\" class=\"sk-toggleable__label sk-toggleable__label-arrow\">OneHotEncoder</label><div class=\"sk-toggleable__content\"><pre>OneHotEncoder(handle_unknown=&#x27;ignore&#x27;, sparse_output=False)</pre></div></div></div></div></div></div></div></div></div></div></div></div>"
      ],
      "text/plain": [
       "ColumnTransformer(transformers=[('num',\n",
       "                                 Pipeline(steps=[('robust_scaler',\n",
       "                                                  RobustScaler())]),\n",
       "                                 Index(['CNT_CHILDREN', 'AMT_INCOME_TOTAL', 'AMT_CREDIT', 'AMT_ANNUITY',\n",
       "       'AMT_GOODS_PRICE', 'REGION_POPULATION_RELATIVE', 'DAYS_BIRTH',\n",
       "       'DAYS_EMPLOYED', 'DAYS_REGISTRATION', 'DAYS_ID_PUBLISH',\n",
       "       ...\n",
       "       'FLAG_DOCUMENT_19', 'FLAG_DOCUMENT_20', 'FLAG_DOCUMENT_21',\n",
       "       'AMT_REQ_CREDIT_BU...\n",
       "                                                 ('one_hot_encoder',\n",
       "                                                  OneHotEncoder(handle_unknown='ignore',\n",
       "                                                                sparse_output=False))]),\n",
       "                                 Index(['CODE_GENDER', 'NAME_TYPE_SUITE', 'NAME_INCOME_TYPE',\n",
       "       'NAME_EDUCATION_TYPE', 'NAME_FAMILY_STATUS', 'NAME_HOUSING_TYPE',\n",
       "       'OCCUPATION_TYPE', 'WEEKDAY_APPR_PROCESS_START', 'FONDKAPREMONT_MODE',\n",
       "       'HOUSETYPE_MODE', 'WALLSMATERIAL_MODE', 'ORGANIZATION_TYPE_Grouped'],\n",
       "      dtype='object'))])"
      ]
     },
     "execution_count": 7,
     "metadata": {},
     "output_type": "execute_result"
    }
   ],
   "source": [
    "preprocess_pipe = pipelines.create_preprocess_pipeline(num_feats, binary_feats, highcard_feats)\n",
    "preprocess_pipe"
   ]
  },
  {
   "cell_type": "code",
   "execution_count": 8,
   "metadata": {},
   "outputs": [
    {
     "name": "stdout",
     "output_type": "stream",
     "text": [
      "(153755, 183) 153755\n"
     ]
    },
    {
     "data": {
      "text/html": [
       "<div>\n",
       "<style scoped>\n",
       "    .dataframe tbody tr th:only-of-type {\n",
       "        vertical-align: middle;\n",
       "    }\n",
       "\n",
       "    .dataframe tbody tr th {\n",
       "        vertical-align: top;\n",
       "    }\n",
       "\n",
       "    .dataframe thead th {\n",
       "        text-align: right;\n",
       "    }\n",
       "</style>\n",
       "<table border=\"1\" class=\"dataframe\">\n",
       "  <thead>\n",
       "    <tr style=\"text-align: right;\">\n",
       "      <th></th>\n",
       "      <th>num__CNT_CHILDREN</th>\n",
       "      <th>num__AMT_INCOME_TOTAL</th>\n",
       "      <th>num__AMT_CREDIT</th>\n",
       "      <th>num__AMT_ANNUITY</th>\n",
       "      <th>num__AMT_GOODS_PRICE</th>\n",
       "      <th>num__REGION_POPULATION_RELATIVE</th>\n",
       "      <th>num__DAYS_BIRTH</th>\n",
       "      <th>num__DAYS_EMPLOYED</th>\n",
       "      <th>num__DAYS_REGISTRATION</th>\n",
       "      <th>num__DAYS_ID_PUBLISH</th>\n",
       "      <th>...</th>\n",
       "      <th>cat__ORGANIZATION_TYPE_Grouped_Industry_type</th>\n",
       "      <th>cat__ORGANIZATION_TYPE_Grouped_Kindergarten</th>\n",
       "      <th>cat__ORGANIZATION_TYPE_Grouped_Medicine</th>\n",
       "      <th>cat__ORGANIZATION_TYPE_Grouped_Other</th>\n",
       "      <th>cat__ORGANIZATION_TYPE_Grouped_Rare</th>\n",
       "      <th>cat__ORGANIZATION_TYPE_Grouped_School</th>\n",
       "      <th>cat__ORGANIZATION_TYPE_Grouped_Self_employed</th>\n",
       "      <th>cat__ORGANIZATION_TYPE_Grouped_Trade_type</th>\n",
       "      <th>cat__ORGANIZATION_TYPE_Grouped_Transport_type</th>\n",
       "      <th>cat__ORGANIZATION_TYPE_Grouped_XNA</th>\n",
       "    </tr>\n",
       "  </thead>\n",
       "  <tbody>\n",
       "    <tr>\n",
       "      <th>0</th>\n",
       "      <td>0.000</td>\n",
       "      <td>-1.150</td>\n",
       "      <td>-0.618</td>\n",
       "      <td>-0.878</td>\n",
       "      <td>-0.612</td>\n",
       "      <td>-0.034</td>\n",
       "      <td>-0.969</td>\n",
       "      <td>-0.244</td>\n",
       "      <td>-0.605</td>\n",
       "      <td>-0.728</td>\n",
       "      <td>...</td>\n",
       "      <td>0.000</td>\n",
       "      <td>0.000</td>\n",
       "      <td>0.000</td>\n",
       "      <td>0.000</td>\n",
       "      <td>0.000</td>\n",
       "      <td>0.000</td>\n",
       "      <td>0.000</td>\n",
       "      <td>0.000</td>\n",
       "      <td>0.000</td>\n",
       "      <td>0.000</td>\n",
       "    </tr>\n",
       "    <tr>\n",
       "      <th>1</th>\n",
       "      <td>1.000</td>\n",
       "      <td>0.100</td>\n",
       "      <td>1.246</td>\n",
       "      <td>0.545</td>\n",
       "      <td>1.082</td>\n",
       "      <td>1.467</td>\n",
       "      <td>0.012</td>\n",
       "      <td>-0.179</td>\n",
       "      <td>-0.522</td>\n",
       "      <td>0.940</td>\n",
       "      <td>...</td>\n",
       "      <td>0.000</td>\n",
       "      <td>0.000</td>\n",
       "      <td>0.000</td>\n",
       "      <td>0.000</td>\n",
       "      <td>1.000</td>\n",
       "      <td>0.000</td>\n",
       "      <td>0.000</td>\n",
       "      <td>0.000</td>\n",
       "      <td>0.000</td>\n",
       "      <td>0.000</td>\n",
       "    </tr>\n",
       "    <tr>\n",
       "      <th>2</th>\n",
       "      <td>1.000</td>\n",
       "      <td>-0.400</td>\n",
       "      <td>1.918</td>\n",
       "      <td>0.885</td>\n",
       "      <td>2.041</td>\n",
       "      <td>-0.003</td>\n",
       "      <td>-0.368</td>\n",
       "      <td>0.441</td>\n",
       "      <td>-0.036</td>\n",
       "      <td>-0.782</td>\n",
       "      <td>...</td>\n",
       "      <td>0.000</td>\n",
       "      <td>0.000</td>\n",
       "      <td>0.000</td>\n",
       "      <td>0.000</td>\n",
       "      <td>0.000</td>\n",
       "      <td>0.000</td>\n",
       "      <td>0.000</td>\n",
       "      <td>0.000</td>\n",
       "      <td>0.000</td>\n",
       "      <td>0.000</td>\n",
       "    </tr>\n",
       "  </tbody>\n",
       "</table>\n",
       "<p>3 rows × 183 columns</p>\n",
       "</div>"
      ],
      "text/plain": [
       "   num__CNT_CHILDREN  num__AMT_INCOME_TOTAL  num__AMT_CREDIT  \\\n",
       "0              0.000                 -1.150           -0.618   \n",
       "1              1.000                  0.100            1.246   \n",
       "2              1.000                 -0.400            1.918   \n",
       "\n",
       "   num__AMT_ANNUITY  num__AMT_GOODS_PRICE  num__REGION_POPULATION_RELATIVE  \\\n",
       "0            -0.878                -0.612                           -0.034   \n",
       "1             0.545                 1.082                            1.467   \n",
       "2             0.885                 2.041                           -0.003   \n",
       "\n",
       "   num__DAYS_BIRTH  num__DAYS_EMPLOYED  num__DAYS_REGISTRATION  \\\n",
       "0           -0.969              -0.244                  -0.605   \n",
       "1            0.012              -0.179                  -0.522   \n",
       "2           -0.368               0.441                  -0.036   \n",
       "\n",
       "   num__DAYS_ID_PUBLISH  ...  cat__ORGANIZATION_TYPE_Grouped_Industry_type  \\\n",
       "0                -0.728  ...                                         0.000   \n",
       "1                 0.940  ...                                         0.000   \n",
       "2                -0.782  ...                                         0.000   \n",
       "\n",
       "   cat__ORGANIZATION_TYPE_Grouped_Kindergarten  \\\n",
       "0                                        0.000   \n",
       "1                                        0.000   \n",
       "2                                        0.000   \n",
       "\n",
       "   cat__ORGANIZATION_TYPE_Grouped_Medicine  \\\n",
       "0                                    0.000   \n",
       "1                                    0.000   \n",
       "2                                    0.000   \n",
       "\n",
       "   cat__ORGANIZATION_TYPE_Grouped_Other  cat__ORGANIZATION_TYPE_Grouped_Rare  \\\n",
       "0                                 0.000                                0.000   \n",
       "1                                 0.000                                1.000   \n",
       "2                                 0.000                                0.000   \n",
       "\n",
       "   cat__ORGANIZATION_TYPE_Grouped_School  \\\n",
       "0                                  0.000   \n",
       "1                                  0.000   \n",
       "2                                  0.000   \n",
       "\n",
       "   cat__ORGANIZATION_TYPE_Grouped_Self_employed  \\\n",
       "0                                         0.000   \n",
       "1                                         0.000   \n",
       "2                                         0.000   \n",
       "\n",
       "   cat__ORGANIZATION_TYPE_Grouped_Trade_type  \\\n",
       "0                                      0.000   \n",
       "1                                      0.000   \n",
       "2                                      0.000   \n",
       "\n",
       "   cat__ORGANIZATION_TYPE_Grouped_Transport_type  \\\n",
       "0                                          0.000   \n",
       "1                                          0.000   \n",
       "2                                          0.000   \n",
       "\n",
       "   cat__ORGANIZATION_TYPE_Grouped_XNA  \n",
       "0                               0.000  \n",
       "1                               0.000  \n",
       "2                               0.000  \n",
       "\n",
       "[3 rows x 183 columns]"
      ]
     },
     "execution_count": 8,
     "metadata": {},
     "output_type": "execute_result"
    }
   ],
   "source": [
    "X_train_ready = preprocess_pipe.fit_transform(X_train_FE)\n",
    "X_train_ready = X_train_ready.rename(columns = lambda x:re.sub('[^A-Za-z0-9_]+', '_', x))\n",
    "print(X_train_ready.shape, y_train.size)\n",
    "X_train_ready.head(3)"
   ]
  },
  {
   "cell_type": "markdown",
   "metadata": {},
   "source": [
    "<h3 style=\"color:#774CAD\">Applying to Model</h3>"
   ]
  },
  {
   "cell_type": "markdown",
   "metadata": {},
   "source": [
    "As previously discussed, we are embarking on the construction and evaluation of a **LightGBM model**, and for convenience, we have encapsulated the process within a function. To address the class imbalance inherent in our target variable, we have applied **weights to balance the classes**, adjusting primarily the **max_depth** parameter during experimentation.\n",
    "\n",
    "Given the imbalanced nature of our classes, we choose to evaluate our model's performance using the **ROC AUC metric**. ROC AUC (Receiver Operating Characteristic Area Under the Curve) is particularly well-suited for imbalanced classification tasks. It provides a robust measure of a model's ability to distinguish between positive and negative instances, offering a **balanced assessment even when classes are disproportionate**. This allow us to gauge the model's discriminative power across different threshold settings, crucial in scenarios where correctly identifying positive instances (defaulters) is of vital importance.\""
   ]
  },
  {
   "cell_type": "code",
   "execution_count": 9,
   "metadata": {},
   "outputs": [],
   "source": [
    "def randomized_search_LGBM(X, y, param_distributions={\"max_depth\": randint(2, 10)}):\n",
    "    lgbm_model = LGBMClassifier(random_state=1, class_weight='balanced', verbose=-1, learning_rate=0.01, n_estimators=10)\n",
    "    randomized_search = RandomizedSearchCV(lgbm_model, param_distributions=param_distributions, n_iter=10, cv=5, random_state=1, scoring='roc_auc')\n",
    "    \n",
    "    return randomized_search"
   ]
  },
  {
   "cell_type": "code",
   "execution_count": 10,
   "metadata": {},
   "outputs": [
    {
     "data": {
      "text/html": [
       "<style>#sk-container-id-2 {color: black;}#sk-container-id-2 pre{padding: 0;}#sk-container-id-2 div.sk-toggleable {background-color: white;}#sk-container-id-2 label.sk-toggleable__label {cursor: pointer;display: block;width: 100%;margin-bottom: 0;padding: 0.3em;box-sizing: border-box;text-align: center;}#sk-container-id-2 label.sk-toggleable__label-arrow:before {content: \"▸\";float: left;margin-right: 0.25em;color: #696969;}#sk-container-id-2 label.sk-toggleable__label-arrow:hover:before {color: black;}#sk-container-id-2 div.sk-estimator:hover label.sk-toggleable__label-arrow:before {color: black;}#sk-container-id-2 div.sk-toggleable__content {max-height: 0;max-width: 0;overflow: hidden;text-align: left;background-color: #f0f8ff;}#sk-container-id-2 div.sk-toggleable__content pre {margin: 0.2em;color: black;border-radius: 0.25em;background-color: #f0f8ff;}#sk-container-id-2 input.sk-toggleable__control:checked~div.sk-toggleable__content {max-height: 200px;max-width: 100%;overflow: auto;}#sk-container-id-2 input.sk-toggleable__control:checked~label.sk-toggleable__label-arrow:before {content: \"▾\";}#sk-container-id-2 div.sk-estimator input.sk-toggleable__control:checked~label.sk-toggleable__label {background-color: #d4ebff;}#sk-container-id-2 div.sk-label input.sk-toggleable__control:checked~label.sk-toggleable__label {background-color: #d4ebff;}#sk-container-id-2 input.sk-hidden--visually {border: 0;clip: rect(1px 1px 1px 1px);clip: rect(1px, 1px, 1px, 1px);height: 1px;margin: -1px;overflow: hidden;padding: 0;position: absolute;width: 1px;}#sk-container-id-2 div.sk-estimator {font-family: monospace;background-color: #f0f8ff;border: 1px dotted black;border-radius: 0.25em;box-sizing: border-box;margin-bottom: 0.5em;}#sk-container-id-2 div.sk-estimator:hover {background-color: #d4ebff;}#sk-container-id-2 div.sk-parallel-item::after {content: \"\";width: 100%;border-bottom: 1px solid gray;flex-grow: 1;}#sk-container-id-2 div.sk-label:hover label.sk-toggleable__label {background-color: #d4ebff;}#sk-container-id-2 div.sk-serial::before {content: \"\";position: absolute;border-left: 1px solid gray;box-sizing: border-box;top: 0;bottom: 0;left: 50%;z-index: 0;}#sk-container-id-2 div.sk-serial {display: flex;flex-direction: column;align-items: center;background-color: white;padding-right: 0.2em;padding-left: 0.2em;position: relative;}#sk-container-id-2 div.sk-item {position: relative;z-index: 1;}#sk-container-id-2 div.sk-parallel {display: flex;align-items: stretch;justify-content: center;background-color: white;position: relative;}#sk-container-id-2 div.sk-item::before, #sk-container-id-2 div.sk-parallel-item::before {content: \"\";position: absolute;border-left: 1px solid gray;box-sizing: border-box;top: 0;bottom: 0;left: 50%;z-index: -1;}#sk-container-id-2 div.sk-parallel-item {display: flex;flex-direction: column;z-index: 1;position: relative;background-color: white;}#sk-container-id-2 div.sk-parallel-item:first-child::after {align-self: flex-end;width: 50%;}#sk-container-id-2 div.sk-parallel-item:last-child::after {align-self: flex-start;width: 50%;}#sk-container-id-2 div.sk-parallel-item:only-child::after {width: 0;}#sk-container-id-2 div.sk-dashed-wrapped {border: 1px dashed gray;margin: 0 0.4em 0.5em 0.4em;box-sizing: border-box;padding-bottom: 0.4em;background-color: white;}#sk-container-id-2 div.sk-label label {font-family: monospace;font-weight: bold;display: inline-block;line-height: 1.2em;}#sk-container-id-2 div.sk-label-container {text-align: center;}#sk-container-id-2 div.sk-container {/* jupyter's `normalize.less` sets `[hidden] { display: none; }` but bootstrap.min.css set `[hidden] { display: none !important; }` so we also need the `!important` here to be able to override the default hidden behavior on the sphinx rendered scikit-learn.org. See: https://github.com/scikit-learn/scikit-learn/issues/21755 */display: inline-block !important;position: relative;}#sk-container-id-2 div.sk-text-repr-fallback {display: none;}</style><div id=\"sk-container-id-2\" class=\"sk-top-container\"><div class=\"sk-text-repr-fallback\"><pre>RandomizedSearchCV(cv=5,\n",
       "                   estimator=LGBMClassifier(class_weight=&#x27;balanced&#x27;,\n",
       "                                            learning_rate=0.01, n_estimators=10,\n",
       "                                            random_state=1, verbose=-1),\n",
       "                   param_distributions={&#x27;max_depth&#x27;: &lt;scipy.stats._distn_infrastructure.rv_discrete_frozen object at 0x000002C88F681510&gt;},\n",
       "                   random_state=1, scoring=&#x27;roc_auc&#x27;)</pre><b>In a Jupyter environment, please rerun this cell to show the HTML representation or trust the notebook. <br />On GitHub, the HTML representation is unable to render, please try loading this page with nbviewer.org.</b></div><div class=\"sk-container\" hidden><div class=\"sk-item sk-dashed-wrapped\"><div class=\"sk-label-container\"><div class=\"sk-label sk-toggleable\"><input class=\"sk-toggleable__control sk-hidden--visually\" id=\"sk-estimator-id-9\" type=\"checkbox\" ><label for=\"sk-estimator-id-9\" class=\"sk-toggleable__label sk-toggleable__label-arrow\">RandomizedSearchCV</label><div class=\"sk-toggleable__content\"><pre>RandomizedSearchCV(cv=5,\n",
       "                   estimator=LGBMClassifier(class_weight=&#x27;balanced&#x27;,\n",
       "                                            learning_rate=0.01, n_estimators=10,\n",
       "                                            random_state=1, verbose=-1),\n",
       "                   param_distributions={&#x27;max_depth&#x27;: &lt;scipy.stats._distn_infrastructure.rv_discrete_frozen object at 0x000002C88F681510&gt;},\n",
       "                   random_state=1, scoring=&#x27;roc_auc&#x27;)</pre></div></div></div><div class=\"sk-parallel\"><div class=\"sk-parallel-item\"><div class=\"sk-item\"><div class=\"sk-label-container\"><div class=\"sk-label sk-toggleable\"><input class=\"sk-toggleable__control sk-hidden--visually\" id=\"sk-estimator-id-10\" type=\"checkbox\" ><label for=\"sk-estimator-id-10\" class=\"sk-toggleable__label sk-toggleable__label-arrow\">estimator: LGBMClassifier</label><div class=\"sk-toggleable__content\"><pre>LGBMClassifier(class_weight=&#x27;balanced&#x27;, learning_rate=0.01, n_estimators=10,\n",
       "               random_state=1, verbose=-1)</pre></div></div></div><div class=\"sk-serial\"><div class=\"sk-item\"><div class=\"sk-estimator sk-toggleable\"><input class=\"sk-toggleable__control sk-hidden--visually\" id=\"sk-estimator-id-11\" type=\"checkbox\" ><label for=\"sk-estimator-id-11\" class=\"sk-toggleable__label sk-toggleable__label-arrow\">LGBMClassifier</label><div class=\"sk-toggleable__content\"><pre>LGBMClassifier(class_weight=&#x27;balanced&#x27;, learning_rate=0.01, n_estimators=10,\n",
       "               random_state=1, verbose=-1)</pre></div></div></div></div></div></div></div></div></div></div>"
      ],
      "text/plain": [
       "RandomizedSearchCV(cv=5,\n",
       "                   estimator=LGBMClassifier(class_weight='balanced',\n",
       "                                            learning_rate=0.01, n_estimators=10,\n",
       "                                            random_state=1, verbose=-1),\n",
       "                   param_distributions={'max_depth': <scipy.stats._distn_infrastructure.rv_discrete_frozen object at 0x000002C88F681510>},\n",
       "                   random_state=1, scoring='roc_auc')"
      ]
     },
     "execution_count": 10,
     "metadata": {},
     "output_type": "execute_result"
    }
   ],
   "source": [
    "randomized_search1 = randomized_search_LGBM(X_train_ready, y_train)\n",
    "randomized_search1 = randomized_search1.fit(X_train_ready, y_train)\n",
    "randomized_search1"
   ]
  },
  {
   "cell_type": "code",
   "execution_count": 11,
   "metadata": {},
   "outputs": [
    {
     "data": {
      "text/plain": [
       "{'model': LGBMClassifier(class_weight='balanced', learning_rate=0.01, max_depth=9,\n",
       "                n_estimators=10, random_state=1, verbose=-1),\n",
       " 'best_params': {'max_depth': 9},\n",
       " 'best_score': 0.7185730514002546}"
      ]
     },
     "execution_count": 11,
     "metadata": {},
     "output_type": "execute_result"
    }
   ],
   "source": [
    "lgbm_results1 = {\n",
    "    'model': randomized_search1.best_estimator_,\n",
    "    'best_params': randomized_search1.best_params_,\n",
    "    'best_score': randomized_search1.best_score_\n",
    "}\n",
    "\n",
    "lgbm_results1"
   ]
  },
  {
   "cell_type": "code",
   "execution_count": 12,
   "metadata": {},
   "outputs": [
    {
     "data": {
      "image/png": "[encoded data removed]",
      "text/plain": [
       "<Figure size 800x600 with 1 Axes>"
      ]
     },
     "metadata": {},
     "output_type": "display_data"
    }
   ],
   "source": [
    "fig, ax = plt.subplots(figsize=(8, 6))\n",
    "best_lgbm_model1 = randomized_search1.best_estimator_\n",
    "model_select.plot_feature_importance(best_lgbm_model1, X_train_ready, y_train, ax=ax)"
   ]
  },
  {
   "cell_type": "markdown",
   "metadata": {},
   "source": [
    "As we can see, the model finds as most important features the **External sources (2, 1 and 3)** of information about the clients. Our **ROC AUC for this model is 0.7186**."
   ]
  },
  {
   "cell_type": "markdown",
   "metadata": {},
   "source": [
    "<h2 style=\"color:#774CAD\">New Features</h2>"
   ]
  },
  {
   "cell_type": "markdown",
   "metadata": {},
   "source": [
    "In this part we will define some new features.\n",
    "\n",
    "From **EXT_SOURCES** (6 new features):\n",
    "- products,\n",
    "- sum,\n",
    "- mean,\n",
    "- products each 2 features (EX1 x EX2,...).\n",
    "\n",
    "From the **AMT_ features** (14 new features):\n",
    "- ratio between some of the AMT_ features and themselves.\n",
    "- ratio between some of the AMT_ features and 'DAYS_BIRTH', 'DAYS_EMPLOYED'.\n",
    "\n",
    "Also:\n",
    "- age, \n",
    "- age bins, \n",
    "- years of work,\n",
    "- percent of worked days"
   ]
  },
  {
   "cell_type": "code",
   "execution_count": 13,
   "metadata": {},
   "outputs": [
    {
     "data": {
      "text/plain": [
       "Index(['CNT_CHILDREN', 'AMT_INCOME_TOTAL', 'AMT_CREDIT', 'AMT_ANNUITY',\n",
       "       'AMT_GOODS_PRICE', 'REGION_POPULATION_RELATIVE', 'DAYS_BIRTH',\n",
       "       'DAYS_EMPLOYED'],\n",
       "      dtype='object')"
      ]
     },
     "execution_count": 13,
     "metadata": {},
     "output_type": "execute_result"
    }
   ],
   "source": [
    "num_feats[0:8]"
   ]
  },
  {
   "cell_type": "code",
   "execution_count": 14,
   "metadata": {},
   "outputs": [],
   "source": [
    "feat_eng_pipe2 = Pipeline(\n",
    "    steps=[\n",
    "        ('zero_null_transformer', feat_eng.ZeroToNullTransformer(columns=\"YEARS_BEGINEXPLUATATION_MEDI\")),\n",
    "        ('multiply_by_neg1', feat_eng.MultiplyByNeg1(columns=[col for col in df_train.columns if col.startswith('DAYS_')])),\n",
    "        ('days_empl_anomaly', feat_eng.HandleDaysEmployedAnomaly()),\n",
    "        ('map_loan_titles', feat_eng.ApplyMapToOrganization(column=\"ORGANIZATION_TYPE\", similarity_threshold=70)),\n",
    "        ('ext_sources_transformer', feat_eng.ExternalSourcesTransformer()),\n",
    "        ('financial_ratio_transformer', feat_eng.FinancialRatioTransformer()),\n",
    "        ('age_employment_transformer', feat_eng.AgeAndEmploymentTransformer()),\n",
    "    ]\n",
    ")"
   ]
  },
  {
   "cell_type": "code",
   "execution_count": 15,
   "metadata": {},
   "outputs": [],
   "source": [
    "X_train_FE = feat_eng_pipe2.fit_transform(X_train)\n",
    "num_feats, cat_feats, binary_feats, highcard_feats = utils.extract_features(X_train_FE)"
   ]
  },
  {
   "cell_type": "code",
   "execution_count": 16,
   "metadata": {},
   "outputs": [
    {
     "name": "stdout",
     "output_type": "stream",
     "text": [
      "(153755, 206) 153755\n"
     ]
    },
    {
     "data": {
      "text/html": [
       "<div>\n",
       "<style scoped>\n",
       "    .dataframe tbody tr th:only-of-type {\n",
       "        vertical-align: middle;\n",
       "    }\n",
       "\n",
       "    .dataframe tbody tr th {\n",
       "        vertical-align: top;\n",
       "    }\n",
       "\n",
       "    .dataframe thead th {\n",
       "        text-align: right;\n",
       "    }\n",
       "</style>\n",
       "<table border=\"1\" class=\"dataframe\">\n",
       "  <thead>\n",
       "    <tr style=\"text-align: right;\">\n",
       "      <th></th>\n",
       "      <th>num__CNT_CHILDREN</th>\n",
       "      <th>num__AMT_INCOME_TOTAL</th>\n",
       "      <th>num__AMT_CREDIT</th>\n",
       "      <th>num__AMT_ANNUITY</th>\n",
       "      <th>num__AMT_GOODS_PRICE</th>\n",
       "      <th>num__REGION_POPULATION_RELATIVE</th>\n",
       "      <th>num__DAYS_BIRTH</th>\n",
       "      <th>num__DAYS_EMPLOYED</th>\n",
       "      <th>num__DAYS_REGISTRATION</th>\n",
       "      <th>num__DAYS_ID_PUBLISH</th>\n",
       "      <th>...</th>\n",
       "      <th>cat__ORGANIZATION_TYPE_Grouped_Industry_type</th>\n",
       "      <th>cat__ORGANIZATION_TYPE_Grouped_Kindergarten</th>\n",
       "      <th>cat__ORGANIZATION_TYPE_Grouped_Medicine</th>\n",
       "      <th>cat__ORGANIZATION_TYPE_Grouped_Other</th>\n",
       "      <th>cat__ORGANIZATION_TYPE_Grouped_Rare</th>\n",
       "      <th>cat__ORGANIZATION_TYPE_Grouped_School</th>\n",
       "      <th>cat__ORGANIZATION_TYPE_Grouped_Self_employed</th>\n",
       "      <th>cat__ORGANIZATION_TYPE_Grouped_Trade_type</th>\n",
       "      <th>cat__ORGANIZATION_TYPE_Grouped_Transport_type</th>\n",
       "      <th>cat__ORGANIZATION_TYPE_Grouped_XNA</th>\n",
       "    </tr>\n",
       "  </thead>\n",
       "  <tbody>\n",
       "    <tr>\n",
       "      <th>0</th>\n",
       "      <td>0.000</td>\n",
       "      <td>-1.150</td>\n",
       "      <td>-0.618</td>\n",
       "      <td>-0.878</td>\n",
       "      <td>-0.612</td>\n",
       "      <td>-0.034</td>\n",
       "      <td>0.969</td>\n",
       "      <td>NaN</td>\n",
       "      <td>0.605</td>\n",
       "      <td>0.728</td>\n",
       "      <td>...</td>\n",
       "      <td>0.000</td>\n",
       "      <td>0.000</td>\n",
       "      <td>0.000</td>\n",
       "      <td>0.000</td>\n",
       "      <td>0.000</td>\n",
       "      <td>0.000</td>\n",
       "      <td>0.000</td>\n",
       "      <td>0.000</td>\n",
       "      <td>0.000</td>\n",
       "      <td>0.000</td>\n",
       "    </tr>\n",
       "    <tr>\n",
       "      <th>1</th>\n",
       "      <td>1.000</td>\n",
       "      <td>0.100</td>\n",
       "      <td>1.246</td>\n",
       "      <td>0.545</td>\n",
       "      <td>1.082</td>\n",
       "      <td>1.467</td>\n",
       "      <td>-0.012</td>\n",
       "      <td>NaN</td>\n",
       "      <td>0.522</td>\n",
       "      <td>-0.940</td>\n",
       "      <td>...</td>\n",
       "      <td>0.000</td>\n",
       "      <td>0.000</td>\n",
       "      <td>0.000</td>\n",
       "      <td>0.000</td>\n",
       "      <td>1.000</td>\n",
       "      <td>0.000</td>\n",
       "      <td>0.000</td>\n",
       "      <td>0.000</td>\n",
       "      <td>0.000</td>\n",
       "      <td>0.000</td>\n",
       "    </tr>\n",
       "    <tr>\n",
       "      <th>2</th>\n",
       "      <td>1.000</td>\n",
       "      <td>-0.400</td>\n",
       "      <td>1.918</td>\n",
       "      <td>0.885</td>\n",
       "      <td>2.041</td>\n",
       "      <td>-0.003</td>\n",
       "      <td>0.368</td>\n",
       "      <td>NaN</td>\n",
       "      <td>0.036</td>\n",
       "      <td>0.782</td>\n",
       "      <td>...</td>\n",
       "      <td>0.000</td>\n",
       "      <td>0.000</td>\n",
       "      <td>0.000</td>\n",
       "      <td>0.000</td>\n",
       "      <td>0.000</td>\n",
       "      <td>0.000</td>\n",
       "      <td>0.000</td>\n",
       "      <td>0.000</td>\n",
       "      <td>0.000</td>\n",
       "      <td>0.000</td>\n",
       "    </tr>\n",
       "  </tbody>\n",
       "</table>\n",
       "<p>3 rows × 206 columns</p>\n",
       "</div>"
      ],
      "text/plain": [
       "   num__CNT_CHILDREN  num__AMT_INCOME_TOTAL  num__AMT_CREDIT  \\\n",
       "0              0.000                 -1.150           -0.618   \n",
       "1              1.000                  0.100            1.246   \n",
       "2              1.000                 -0.400            1.918   \n",
       "\n",
       "   num__AMT_ANNUITY  num__AMT_GOODS_PRICE  num__REGION_POPULATION_RELATIVE  \\\n",
       "0            -0.878                -0.612                           -0.034   \n",
       "1             0.545                 1.082                            1.467   \n",
       "2             0.885                 2.041                           -0.003   \n",
       "\n",
       "   num__DAYS_BIRTH  num__DAYS_EMPLOYED  num__DAYS_REGISTRATION  \\\n",
       "0            0.969                 NaN                   0.605   \n",
       "1           -0.012                 NaN                   0.522   \n",
       "2            0.368                 NaN                   0.036   \n",
       "\n",
       "   num__DAYS_ID_PUBLISH  ...  cat__ORGANIZATION_TYPE_Grouped_Industry_type  \\\n",
       "0                 0.728  ...                                         0.000   \n",
       "1                -0.940  ...                                         0.000   \n",
       "2                 0.782  ...                                         0.000   \n",
       "\n",
       "   cat__ORGANIZATION_TYPE_Grouped_Kindergarten  \\\n",
       "0                                        0.000   \n",
       "1                                        0.000   \n",
       "2                                        0.000   \n",
       "\n",
       "   cat__ORGANIZATION_TYPE_Grouped_Medicine  \\\n",
       "0                                    0.000   \n",
       "1                                    0.000   \n",
       "2                                    0.000   \n",
       "\n",
       "   cat__ORGANIZATION_TYPE_Grouped_Other  cat__ORGANIZATION_TYPE_Grouped_Rare  \\\n",
       "0                                 0.000                                0.000   \n",
       "1                                 0.000                                1.000   \n",
       "2                                 0.000                                0.000   \n",
       "\n",
       "   cat__ORGANIZATION_TYPE_Grouped_School  \\\n",
       "0                                  0.000   \n",
       "1                                  0.000   \n",
       "2                                  0.000   \n",
       "\n",
       "   cat__ORGANIZATION_TYPE_Grouped_Self_employed  \\\n",
       "0                                         0.000   \n",
       "1                                         0.000   \n",
       "2                                         0.000   \n",
       "\n",
       "   cat__ORGANIZATION_TYPE_Grouped_Trade_type  \\\n",
       "0                                      0.000   \n",
       "1                                      0.000   \n",
       "2                                      0.000   \n",
       "\n",
       "   cat__ORGANIZATION_TYPE_Grouped_Transport_type  \\\n",
       "0                                          0.000   \n",
       "1                                          0.000   \n",
       "2                                          0.000   \n",
       "\n",
       "   cat__ORGANIZATION_TYPE_Grouped_XNA  \n",
       "0                               0.000  \n",
       "1                               0.000  \n",
       "2                               0.000  \n",
       "\n",
       "[3 rows x 206 columns]"
      ]
     },
     "execution_count": 16,
     "metadata": {},
     "output_type": "execute_result"
    }
   ],
   "source": [
    "preprocess_pipe = pipelines.create_preprocess_pipeline(num_feats, binary_feats, highcard_feats)\n",
    "preprocess_pipe\n",
    "\n",
    "X_train_ready = preprocess_pipe.fit_transform(X_train_FE)\n",
    "X_train_ready = X_train_ready.rename(columns = lambda x:re.sub('[^A-Za-z0-9_]+', '_', x))\n",
    "print(X_train_ready.shape, y_train.size)\n",
    "X_train_ready.head(3)"
   ]
  },
  {
   "cell_type": "markdown",
   "metadata": {},
   "source": [
    "<h3 style=\"color:#774CAD\">Applying to Model</h3>"
   ]
  },
  {
   "cell_type": "code",
   "execution_count": 17,
   "metadata": {},
   "outputs": [
    {
     "data": {
      "text/html": [
       "<style>#sk-container-id-3 {color: black;}#sk-container-id-3 pre{padding: 0;}#sk-container-id-3 div.sk-toggleable {background-color: white;}#sk-container-id-3 label.sk-toggleable__label {cursor: pointer;display: block;width: 100%;margin-bottom: 0;padding: 0.3em;box-sizing: border-box;text-align: center;}#sk-container-id-3 label.sk-toggleable__label-arrow:before {content: \"▸\";float: left;margin-right: 0.25em;color: #696969;}#sk-container-id-3 label.sk-toggleable__label-arrow:hover:before {color: black;}#sk-container-id-3 div.sk-estimator:hover label.sk-toggleable__label-arrow:before {color: black;}#sk-container-id-3 div.sk-toggleable__content {max-height: 0;max-width: 0;overflow: hidden;text-align: left;background-color: #f0f8ff;}#sk-container-id-3 div.sk-toggleable__content pre {margin: 0.2em;color: black;border-radius: 0.25em;background-color: #f0f8ff;}#sk-container-id-3 input.sk-toggleable__control:checked~div.sk-toggleable__content {max-height: 200px;max-width: 100%;overflow: auto;}#sk-container-id-3 input.sk-toggleable__control:checked~label.sk-toggleable__label-arrow:before {content: \"▾\";}#sk-container-id-3 div.sk-estimator input.sk-toggleable__control:checked~label.sk-toggleable__label {background-color: #d4ebff;}#sk-container-id-3 div.sk-label input.sk-toggleable__control:checked~label.sk-toggleable__label {background-color: #d4ebff;}#sk-container-id-3 input.sk-hidden--visually {border: 0;clip: rect(1px 1px 1px 1px);clip: rect(1px, 1px, 1px, 1px);height: 1px;margin: -1px;overflow: hidden;padding: 0;position: absolute;width: 1px;}#sk-container-id-3 div.sk-estimator {font-family: monospace;background-color: #f0f8ff;border: 1px dotted black;border-radius: 0.25em;box-sizing: border-box;margin-bottom: 0.5em;}#sk-container-id-3 div.sk-estimator:hover {background-color: #d4ebff;}#sk-container-id-3 div.sk-parallel-item::after {content: \"\";width: 100%;border-bottom: 1px solid gray;flex-grow: 1;}#sk-container-id-3 div.sk-label:hover label.sk-toggleable__label {background-color: #d4ebff;}#sk-container-id-3 div.sk-serial::before {content: \"\";position: absolute;border-left: 1px solid gray;box-sizing: border-box;top: 0;bottom: 0;left: 50%;z-index: 0;}#sk-container-id-3 div.sk-serial {display: flex;flex-direction: column;align-items: center;background-color: white;padding-right: 0.2em;padding-left: 0.2em;position: relative;}#sk-container-id-3 div.sk-item {position: relative;z-index: 1;}#sk-container-id-3 div.sk-parallel {display: flex;align-items: stretch;justify-content: center;background-color: white;position: relative;}#sk-container-id-3 div.sk-item::before, #sk-container-id-3 div.sk-parallel-item::before {content: \"\";position: absolute;border-left: 1px solid gray;box-sizing: border-box;top: 0;bottom: 0;left: 50%;z-index: -1;}#sk-container-id-3 div.sk-parallel-item {display: flex;flex-direction: column;z-index: 1;position: relative;background-color: white;}#sk-container-id-3 div.sk-parallel-item:first-child::after {align-self: flex-end;width: 50%;}#sk-container-id-3 div.sk-parallel-item:last-child::after {align-self: flex-start;width: 50%;}#sk-container-id-3 div.sk-parallel-item:only-child::after {width: 0;}#sk-container-id-3 div.sk-dashed-wrapped {border: 1px dashed gray;margin: 0 0.4em 0.5em 0.4em;box-sizing: border-box;padding-bottom: 0.4em;background-color: white;}#sk-container-id-3 div.sk-label label {font-family: monospace;font-weight: bold;display: inline-block;line-height: 1.2em;}#sk-container-id-3 div.sk-label-container {text-align: center;}#sk-container-id-3 div.sk-container {/* jupyter's `normalize.less` sets `[hidden] { display: none; }` but bootstrap.min.css set `[hidden] { display: none !important; }` so we also need the `!important` here to be able to override the default hidden behavior on the sphinx rendered scikit-learn.org. See: https://github.com/scikit-learn/scikit-learn/issues/21755 */display: inline-block !important;position: relative;}#sk-container-id-3 div.sk-text-repr-fallback {display: none;}</style><div id=\"sk-container-id-3\" class=\"sk-top-container\"><div class=\"sk-text-repr-fallback\"><pre>RandomizedSearchCV(cv=5,\n",
       "                   estimator=LGBMClassifier(class_weight=&#x27;balanced&#x27;,\n",
       "                                            learning_rate=0.01, n_estimators=10,\n",
       "                                            random_state=1, verbose=-1),\n",
       "                   param_distributions={&#x27;max_depth&#x27;: &lt;scipy.stats._distn_infrastructure.rv_discrete_frozen object at 0x000002C88F681510&gt;},\n",
       "                   random_state=1, scoring=&#x27;roc_auc&#x27;)</pre><b>In a Jupyter environment, please rerun this cell to show the HTML representation or trust the notebook. <br />On GitHub, the HTML representation is unable to render, please try loading this page with nbviewer.org.</b></div><div class=\"sk-container\" hidden><div class=\"sk-item sk-dashed-wrapped\"><div class=\"sk-label-container\"><div class=\"sk-label sk-toggleable\"><input class=\"sk-toggleable__control sk-hidden--visually\" id=\"sk-estimator-id-12\" type=\"checkbox\" ><label for=\"sk-estimator-id-12\" class=\"sk-toggleable__label sk-toggleable__label-arrow\">RandomizedSearchCV</label><div class=\"sk-toggleable__content\"><pre>RandomizedSearchCV(cv=5,\n",
       "                   estimator=LGBMClassifier(class_weight=&#x27;balanced&#x27;,\n",
       "                                            learning_rate=0.01, n_estimators=10,\n",
       "                                            random_state=1, verbose=-1),\n",
       "                   param_distributions={&#x27;max_depth&#x27;: &lt;scipy.stats._distn_infrastructure.rv_discrete_frozen object at 0x000002C88F681510&gt;},\n",
       "                   random_state=1, scoring=&#x27;roc_auc&#x27;)</pre></div></div></div><div class=\"sk-parallel\"><div class=\"sk-parallel-item\"><div class=\"sk-item\"><div class=\"sk-label-container\"><div class=\"sk-label sk-toggleable\"><input class=\"sk-toggleable__control sk-hidden--visually\" id=\"sk-estimator-id-13\" type=\"checkbox\" ><label for=\"sk-estimator-id-13\" class=\"sk-toggleable__label sk-toggleable__label-arrow\">estimator: LGBMClassifier</label><div class=\"sk-toggleable__content\"><pre>LGBMClassifier(class_weight=&#x27;balanced&#x27;, learning_rate=0.01, n_estimators=10,\n",
       "               random_state=1, verbose=-1)</pre></div></div></div><div class=\"sk-serial\"><div class=\"sk-item\"><div class=\"sk-estimator sk-toggleable\"><input class=\"sk-toggleable__control sk-hidden--visually\" id=\"sk-estimator-id-14\" type=\"checkbox\" ><label for=\"sk-estimator-id-14\" class=\"sk-toggleable__label sk-toggleable__label-arrow\">LGBMClassifier</label><div class=\"sk-toggleable__content\"><pre>LGBMClassifier(class_weight=&#x27;balanced&#x27;, learning_rate=0.01, n_estimators=10,\n",
       "               random_state=1, verbose=-1)</pre></div></div></div></div></div></div></div></div></div></div>"
      ],
      "text/plain": [
       "RandomizedSearchCV(cv=5,\n",
       "                   estimator=LGBMClassifier(class_weight='balanced',\n",
       "                                            learning_rate=0.01, n_estimators=10,\n",
       "                                            random_state=1, verbose=-1),\n",
       "                   param_distributions={'max_depth': <scipy.stats._distn_infrastructure.rv_discrete_frozen object at 0x000002C88F681510>},\n",
       "                   random_state=1, scoring='roc_auc')"
      ]
     },
     "execution_count": 17,
     "metadata": {},
     "output_type": "execute_result"
    }
   ],
   "source": [
    "randomized_search2 = randomized_search_LGBM(X_train_ready, y_train)\n",
    "randomized_search2 = randomized_search2.fit(X_train_ready, y_train)\n",
    "randomized_search2"
   ]
  },
  {
   "cell_type": "code",
   "execution_count": 18,
   "metadata": {},
   "outputs": [
    {
     "data": {
      "text/plain": [
       "{'model': LGBMClassifier(class_weight='balanced', learning_rate=0.01, max_depth=9,\n",
       "                n_estimators=10, random_state=1, verbose=-1),\n",
       " 'best_params': {'max_depth': 9},\n",
       " 'best_score': 0.7289800790920034}"
      ]
     },
     "execution_count": 18,
     "metadata": {},
     "output_type": "execute_result"
    }
   ],
   "source": [
    "lgbm_results2 = {\n",
    "    'model': randomized_search2.best_estimator_,\n",
    "    'best_params': randomized_search2.best_params_,\n",
    "    'best_score': randomized_search2.best_score_\n",
    "}\n",
    "\n",
    "lgbm_results2"
   ]
  },
  {
   "cell_type": "code",
   "execution_count": 19,
   "metadata": {},
   "outputs": [
    {
     "data": {
      "image/png": "[encoded data removed]",
      "text/plain": [
       "<Figure size 800x600 with 1 Axes>"
      ]
     },
     "metadata": {},
     "output_type": "display_data"
    }
   ],
   "source": [
    "fig, ax = plt.subplots(figsize=(8, 6))\n",
    "best_lgbm_model2 = randomized_search2.best_estimator_\n",
    "model_select.plot_feature_importance(best_lgbm_model2, X_train_ready, y_train, ax=ax, color='tab:green')"
   ]
  },
  {
   "cell_type": "markdown",
   "metadata": {},
   "source": [
    "The **f1-score** for our best model improved from 0.7186 to **0.7290**. We can see that many of the **recently engineered features belong to the top 10** most important, with the mean and sum of the EXT_sources being the most important. In order to improve this results, it is clear that we need to explore and further analyse some of the other dataframes.\n",
    "\n",
    "We will start with the previous applications and installments."
   ]
  }
 ],
 "metadata": {
  "kernelspec": {
   "display_name": "base",
   "language": "python",
   "name": "python3"
  },
  "language_info": {
   "codemirror_mode": {
    "name": "ipython",
    "version": 3
   },
   "file_extension": ".py",
   "mimetype": "text/x-python",
   "name": "python",
   "nbconvert_exporter": "python",
   "pygments_lexer": "ipython3",
   "version": "3.11.5"
  }
 },
 "nbformat": 4,
 "nbformat_minor": 2
}
